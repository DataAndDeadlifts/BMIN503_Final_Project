{
 "cells": [
  {
   "cell_type": "code",
   "execution_count": 16,
   "metadata": {},
   "outputs": [],
   "source": [
    "import sqlite3\n",
    "import pandas as pd\n",
    "import numpy as np\n",
    "from tqdm import tqdm_notebook\n",
    "from matplotlib import pyplot as plt\n",
    "import seaborn as sns\n",
    "import nltk\n",
    "import sklearn\n",
    "from Bio.SeqUtils.ProtParam import ProteinAnalysis\n",
    "import math\n",
    "from functools import reduce"
   ]
  },
  {
   "cell_type": "code",
   "execution_count": 54,
   "metadata": {},
   "outputs": [
    {
     "name": "stdout",
     "output_type": "stream",
     "text": [
      "0\n",
      "[[0, 2000], [2000, 4000], [4000, 6000], [6000, 8000], [8000, 10000]] ... [[12000, 14000], [14000, 16000], [16000, 18000], [18000, 20000], [20001, 20454]]\n"
     ]
    }
   ],
   "source": [
    "conn = sqlite3.connect(\"protein_training.db\")\n",
    "\n",
    "proteins_df = pd.read_sql(\"SELECT DISTINCT protein FROM protein_ngram\", con=conn)\n",
    "amy_df = pd.read_sql(\"SELECT DISTINCT protein FROM amyloid\", con=conn)\n",
    "\n",
    "# Sanity check that all proteins are ones I plan on using\n",
    "print(proteins_df[proteins_df['protein'].isin(amy_df['protein'])==False].shape[0])\n",
    "\n",
    "conn.close()\n",
    "# Lets chunk this by protein name\n",
    "chunk_size = 2000\n",
    "chunk_list = list(range(0, proteins_df.shape[0],chunk_size))\n",
    "chunk_pairs = [[chunk_list[i-1], chunk_list[i]] for i, x in enumerate(chunk_list) if i != 0]\n",
    "chunk_pairs.append([chunk_pairs[-1][-1]+1, proteins_df.shape[0]])\n",
    "print(chunk_pairs[:5],\"...\",chunk_pairs[-5:])"
   ]
  },
  {
   "cell_type": "code",
   "execution_count": 55,
   "metadata": {},
   "outputs": [
    {
     "data": {
      "text/plain": [
       "20454"
      ]
     },
     "execution_count": 55,
     "metadata": {},
     "output_type": "execute_result"
    }
   ],
   "source": [
    "proteins_df.shape[0]"
   ]
  },
  {
   "cell_type": "code",
   "execution_count": 18,
   "metadata": {
    "scrolled": true
   },
   "outputs": [],
   "source": [
    "# Iterant 1, join all\n",
    "\n",
    "# conn = sqlite3.connect(\"protein_training.db\")\n",
    "\n",
    "# for chunk in tqdm_notebook(chunk_pairs[:2]):\n",
    "#     start = chunk[0]\n",
    "#     end = chunk[1]\n",
    "    \n",
    "#     protein_chunk = proteins_df.iloc[start:end,:]\n",
    "#     prot_list = \"(\"+\", \".join([\"'\"+x+\"'\" for x in protein_chunk.protein.values.tolist()])+\")\"\n",
    "    \n",
    "#     train_chunk = pd.read_sql(\n",
    "#         \"SELECT * \\\n",
    "#         FROM \\\n",
    "#             protein_ngram as a \\\n",
    "#             INNER JOIN protein_seq_features as b ON b.protein = a.protein \\\n",
    "#             INNER JOIN protein_ngram_features as c ON c.protein = a.protein AND c.gram_num = a.gram_num \\\n",
    "#             INNER JOIN protein_subngram_features as d ON d.protein = a.protein AND d.gram_num = a.gram_num \\\n",
    "#         WHERE a.protein IN \"+prot_list,\n",
    "#         con=conn\n",
    "#     )\n",
    "    \n",
    "#     display(train_chunk.sample(5))\n",
    "    \n",
    "# conn.close()\n",
    "\n",
    "# Took 148 sec per iterant"
   ]
  },
  {
   "cell_type": "code",
   "execution_count": 47,
   "metadata": {},
   "outputs": [
    {
     "data": {
      "application/vnd.jupyter.widget-view+json": {
       "model_id": "2ccffba1b5ec4152bab63d0c43be89a6",
       "version_major": 2,
       "version_minor": 0
      },
      "text/plain": [
       "HBox(children=(IntProgress(value=0, max=11), HTML(value='')))"
      ]
     },
     "metadata": {},
     "output_type": "display_data"
    }
   ],
   "source": [
    "# Iterant 2, select subset, then join\n",
    "\n",
    "conn = sqlite3.connect(\"protein_training.db\")\n",
    "\n",
    "for chunk in tqdm_notebook(chunk_pairs):\n",
    "    start = chunk[0]\n",
    "    end = chunk[1]\n",
    "    \n",
    "    protein_chunk = proteins_df.iloc[start:end,:]\n",
    "    prot_list = \"(\"+\", \".join([\"'\"+x+\"'\" for x in protein_chunk.protein.values.tolist()])+\")\"\n",
    "    \n",
    "    ngram_chunk = pd.read_sql(\n",
    "        \"SELECT * FROM protein_ngram WHERE protein IN \"+prot_list, \n",
    "        con=conn\n",
    "    )\n",
    "    \n",
    "    ngram_feat_chunk = pd.read_sql(\n",
    "        \"SELECT * FROM protein_ngram_features WHERE protein IN \"+prot_list, \n",
    "        con=conn\n",
    "    )\n",
    "    \n",
    "    ngram_sub_feat_chunk = pd.read_sql(\n",
    "        \"SELECT * FROM protein_subngram_features WHERE protein IN \"+prot_list, \n",
    "        con=conn\n",
    "    )\n",
    "    \n",
    "    frames = [ngram_chunk, ngram_feat_chunk, ngram_sub_feat_chunk]\n",
    "    \n",
    "    train_chunk = reduce(\n",
    "        lambda left,right: pd.merge(\n",
    "            left,right,on=['protein','gram_num'],\n",
    "            how='outer'\n",
    "        ),\n",
    "        frames\n",
    "    )\n",
    "    \n",
    "    protein_chunk = pd.read_sql(\n",
    "        \"SELECT * FROM protein_seq_features WHERE protein IN \"+prot_list,\n",
    "        con=conn\n",
    "    )\n",
    "    \n",
    "    train_chunk = train_chunk.merge(protein_chunk, on=[\"protein\"])\n",
    "        \n",
    "    train_chunk.to_sql(\"train_final\", con=conn, index=False, if_exists=\"append\")\n",
    "    \n",
    "conn.close()\n",
    "\n",
    "# Takes 67 sec per iterant"
   ]
  },
  {
   "cell_type": "code",
   "execution_count": 28,
   "metadata": {},
   "outputs": [
    {
     "data": {
      "text/plain": [
       "False"
      ]
     },
     "execution_count": 28,
     "metadata": {},
     "output_type": "execute_result"
    }
   ],
   "source": [
    "# Sanity check\n",
    "conn = sqlite3.connect(\"protein_training.db\")\n",
    "\n",
    "c = conn.cursor()\n",
    "\n",
    "nrow_protein_ngram = [x[0] for x in c.execute(\"SELECT COUNT(*) FROM protein_ngram\")][0]\n",
    "nrow_protein_ngram_features = [x[0] for x in c.execute(\"SELECT COUNT(*) FROM protein_ngram_features\")][0]\n",
    "nrow_protein_subngram_features = [x[0] for x in c.execute(\"SELECT COUNT(*) FROM protein_subngram_features\")][0]\n",
    "\n",
    "conn.close()\n",
    "\n",
    "nrow_protein_ngram == nrow_protein_ngram_features == nrow_protein_subngram_features"
   ]
  },
  {
   "cell_type": "code",
   "execution_count": 29,
   "metadata": {},
   "outputs": [
    {
     "data": {
      "text/plain": [
       "11319554"
      ]
     },
     "execution_count": 29,
     "metadata": {},
     "output_type": "execute_result"
    }
   ],
   "source": [
    "nrow_protein_ngram"
   ]
  },
  {
   "cell_type": "code",
   "execution_count": 30,
   "metadata": {},
   "outputs": [
    {
     "data": {
      "text/plain": [
       "11320684"
      ]
     },
     "execution_count": 30,
     "metadata": {},
     "output_type": "execute_result"
    }
   ],
   "source": [
    "nrow_protein_ngram_features"
   ]
  },
  {
   "cell_type": "code",
   "execution_count": 31,
   "metadata": {},
   "outputs": [
    {
     "data": {
      "text/plain": [
       "11319552"
      ]
     },
     "execution_count": 31,
     "metadata": {},
     "output_type": "execute_result"
    }
   ],
   "source": [
    "nrow_protein_subngram_features"
   ]
  },
  {
   "cell_type": "code",
   "execution_count": 48,
   "metadata": {},
   "outputs": [],
   "source": [
    "# Check for null values in all the columns\n",
    "\n",
    "conn = sqlite3.connect(\"protein_training.db\")\n",
    "\n",
    "c = conn.cursor()\n",
    "\n",
    "train_columns = [x[1] for x in c.execute(\"PRAGMA table_info(train_final)\")]\n",
    "\n",
    "conn.close()"
   ]
  },
  {
   "cell_type": "code",
   "execution_count": 50,
   "metadata": {},
   "outputs": [
    {
     "data": {
      "application/vnd.jupyter.widget-view+json": {
       "model_id": "88a63cf3dd9f453e93348a9469410701",
       "version_major": 2,
       "version_minor": 0
      },
      "text/plain": [
       "HBox(children=(IntProgress(value=0, max=119), HTML(value='')))"
      ]
     },
     "metadata": {},
     "output_type": "display_data"
    }
   ],
   "source": [
    "conn = sqlite3.connect(\"protein_training.db\")\n",
    "\n",
    "c = conn.cursor()\n",
    "\n",
    "col_nulls = {}\n",
    "\n",
    "for col in tqdm_notebook(train_columns):\n",
    "    na_cells = [x[0] for x in c.execute(\n",
    "        \"SELECT COUNT(*) \\\n",
    "        FROM train_final \\\n",
    "            WHERE \"+col+\" IS NULL\"\n",
    "    )][0]\n",
    "    \n",
    "    col_nulls[col] = na_cells\n",
    "\n",
    "conn.close()"
   ]
  },
  {
   "cell_type": "code",
   "execution_count": 51,
   "metadata": {},
   "outputs": [
    {
     "data": {
      "text/plain": [
       "{'protein': 0,\n",
       " 'gram_num': 0,\n",
       " 'gram_1': 0,\n",
       " 'gram_2': 0,\n",
       " 'gram_3': 0,\n",
       " 'gram_4': 0,\n",
       " 'gram_5': 0,\n",
       " 'accession': 0,\n",
       " 'amyloid_1': 0,\n",
       " 'amyloid_2': 0,\n",
       " 'amyloid_3': 0,\n",
       " 'amyloid_4': 0,\n",
       " 'amyloid_5': 0,\n",
       " 'gram_frac': 0,\n",
       " 'gram_mol_weight': 0,\n",
       " 'gram_arom': 0,\n",
       " 'gram_insta': 0,\n",
       " 'gram_gravy': 0,\n",
       " 'gram_isoel': 0,\n",
       " 'gram_helix_perc': 0,\n",
       " 'gram_turn_perc': 0,\n",
       " 'gram_sheet_perc': 0,\n",
       " 'gram_reduced_cys_num': 0,\n",
       " 'gram_disulfide_num': 0,\n",
       " 'gram_1_side_class': 1,\n",
       " 'gram_1_side_polarity': 1,\n",
       " 'gram_1_side_charge': 1,\n",
       " 'gram_1_hydropathy_index': 1,\n",
       " 'gram_1_mol_weight': 1,\n",
       " 'gram_2_side_class': 1,\n",
       " 'gram_2_side_polarity': 1,\n",
       " 'gram_2_side_charge': 1,\n",
       " 'gram_2_hydropathy_index': 1,\n",
       " 'gram_2_mol_weight': 1,\n",
       " 'gram_3_side_class': 1,\n",
       " 'gram_3_side_polarity': 1,\n",
       " 'gram_3_side_charge': 1,\n",
       " 'gram_3_hydropathy_index': 1,\n",
       " 'gram_3_mol_weight': 1,\n",
       " 'gram_4_side_class': 1,\n",
       " 'gram_4_side_polarity': 1,\n",
       " 'gram_4_side_charge': 1,\n",
       " 'gram_4_hydropathy_index': 1,\n",
       " 'gram_4_mol_weight': 1,\n",
       " 'gram_5_side_class': 1,\n",
       " 'gram_5_side_polarity': 1,\n",
       " 'gram_5_side_charge': 1,\n",
       " 'gram_5_hydropathy_index': 1,\n",
       " 'gram_5_mol_weight': 1,\n",
       " 'prot_R_perc': 0,\n",
       " 'prot_H_perc': 0,\n",
       " 'prot_K_perc': 0,\n",
       " 'prot_D_perc': 0,\n",
       " 'prot_E_perc': 0,\n",
       " 'prot_S_perc': 0,\n",
       " 'prot_T_perc': 0,\n",
       " 'prot_N_perc': 0,\n",
       " 'prot_Q_perc': 0,\n",
       " 'prot_C_perc': 0,\n",
       " 'prot_U_perc': 0,\n",
       " 'prot_G_perc': 0,\n",
       " 'prot_P_perc': 0,\n",
       " 'prot_A_perc': 0,\n",
       " 'prot_V_perc': 0,\n",
       " 'prot_I_perc': 0,\n",
       " 'prot_L_perc': 0,\n",
       " 'prot_M_perc': 0,\n",
       " 'prot_F_perc': 0,\n",
       " 'prot_Y_perc': 0,\n",
       " 'prot_W_perc': 0,\n",
       " 'prot_R_num': 0,\n",
       " 'prot_H_num': 0,\n",
       " 'prot_K_num': 0,\n",
       " 'prot_D_num': 0,\n",
       " 'prot_E_num': 0,\n",
       " 'prot_S_num': 0,\n",
       " 'prot_T_num': 0,\n",
       " 'prot_N_num': 0,\n",
       " 'prot_Q_num': 0,\n",
       " 'prot_C_num': 0,\n",
       " 'prot_U_num': 0,\n",
       " 'prot_G_num': 0,\n",
       " 'prot_P_num': 0,\n",
       " 'prot_A_num': 0,\n",
       " 'prot_V_num': 0,\n",
       " 'prot_I_num': 0,\n",
       " 'prot_L_num': 0,\n",
       " 'prot_M_num': 0,\n",
       " 'prot_F_num': 0,\n",
       " 'prot_Y_num': 0,\n",
       " 'prot_W_num': 0,\n",
       " 'prot_mol_weight': 0,\n",
       " 'prot_arom': 0,\n",
       " 'prot_insta': 0,\n",
       " 'prot_gravy': 0,\n",
       " 'prot_isoel': 0,\n",
       " 'prot_helix_perc': 0,\n",
       " 'prot_turn_perc': 0,\n",
       " 'prot_sheet_perc': 0,\n",
       " 'prot_flex_mean_1': 0,\n",
       " 'prot_flex_range_1': 0,\n",
       " 'prot_flex_mean_2': 18,\n",
       " 'prot_flex_range_2': 18,\n",
       " 'prot_flex_mean_3': 39,\n",
       " 'prot_flex_range_3': 39,\n",
       " 'prot_flex_mean_4': 47,\n",
       " 'prot_flex_range_4': 47,\n",
       " 'prot_flex_mean_5': 47,\n",
       " 'prot_flex_range_5': 47,\n",
       " 'prot_flex_mean_6': 47,\n",
       " 'prot_flex_range_6': 47,\n",
       " 'prot_flex_mean_7': 108,\n",
       " 'prot_flex_range_7': 108,\n",
       " 'prot_flex_mean_8': 138,\n",
       " 'prot_flex_range_8': 138,\n",
       " 'prot_flex_mean_9': 702,\n",
       " 'prot_flex_range_9': 702,\n",
       " 'prot_flex_mean_10': 10861,\n",
       " 'prot_flex_range_10': 10861}"
      ]
     },
     "execution_count": 51,
     "metadata": {},
     "output_type": "execute_result"
    }
   ],
   "source": [
    "col_nulls"
   ]
  },
  {
   "cell_type": "code",
   "execution_count": null,
   "metadata": {},
   "outputs": [],
   "source": []
  }
 ],
 "metadata": {
  "kernelspec": {
   "display_name": "Python 3",
   "language": "python",
   "name": "python3"
  },
  "language_info": {
   "codemirror_mode": {
    "name": "ipython",
    "version": 3
   },
   "file_extension": ".py",
   "mimetype": "text/x-python",
   "name": "python",
   "nbconvert_exporter": "python",
   "pygments_lexer": "ipython3",
   "version": "3.6.6"
  }
 },
 "nbformat": 4,
 "nbformat_minor": 2
}
