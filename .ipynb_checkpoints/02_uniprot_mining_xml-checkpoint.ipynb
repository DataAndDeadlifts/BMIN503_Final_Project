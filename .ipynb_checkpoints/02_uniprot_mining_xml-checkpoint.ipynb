{
 "cells": [
  {
   "cell_type": "code",
   "execution_count": 1,
   "metadata": {},
   "outputs": [],
   "source": [
    "import pandas as pd\n",
    "import os\n",
    "import re\n",
    "import xmltodict"
   ]
  },
  {
   "cell_type": "code",
   "execution_count": 2,
   "metadata": {},
   "outputs": [
    {
     "data": {
      "text/plain": [
       "True"
      ]
     },
     "execution_count": 2,
     "metadata": {},
     "output_type": "execute_result"
    }
   ],
   "source": [
    "os.getcwd()\n",
    "os.path.exists('data\\\\reviewed_human_protein.xml')\n"
   ]
  },
  {
   "cell_type": "code",
   "execution_count": 3,
   "metadata": {},
   "outputs": [],
   "source": [
    "# This takes a couple minutes\n",
    "with open('data/reviewed_human_protein.xml') as f:\n",
    "    human_protein_dict = xmltodict.parse(f.read())"
   ]
  },
  {
   "cell_type": "code",
   "execution_count": 4,
   "metadata": {},
   "outputs": [
    {
     "data": {
      "text/plain": [
       "odict_keys(['uniprot'])"
      ]
     },
     "execution_count": 4,
     "metadata": {},
     "output_type": "execute_result"
    }
   ],
   "source": [
    "human_protein_dict.keys()"
   ]
  },
  {
   "cell_type": "code",
   "execution_count": 5,
   "metadata": {},
   "outputs": [
    {
     "data": {
      "text/plain": [
       "odict_keys(['@xmlns', '@xmlns:xsi', '@xsi:schemaLocation', 'entry', 'copyright'])"
      ]
     },
     "execution_count": 5,
     "metadata": {},
     "output_type": "execute_result"
    }
   ],
   "source": [
    "human_protein_dict['uniprot'].keys()"
   ]
  },
  {
   "cell_type": "code",
   "execution_count": 14,
   "metadata": {},
   "outputs": [
    {
     "data": {
      "text/plain": [
       "odict_keys(['@dataset', '@created', '@modified', '@version', 'accession', 'name', 'protein', 'gene', 'organism', 'reference', 'comment', 'dbReference', 'proteinExistence', 'keyword', 'feature', 'evidence', 'sequence'])"
      ]
     },
     "execution_count": 14,
     "metadata": {},
     "output_type": "execute_result"
    }
   ],
   "source": [
    "entry = human_protein_dict['uniprot']['entry'][0]\n",
    "entry.keys()"
   ]
  },
  {
   "cell_type": "code",
   "execution_count": 15,
   "metadata": {},
   "outputs": [
    {
     "data": {
      "text/plain": [
       "20394"
      ]
     },
     "execution_count": 15,
     "metadata": {},
     "output_type": "execute_result"
    }
   ],
   "source": [
    "len(human_protein_dict['uniprot']['entry'])"
   ]
  },
  {
   "cell_type": "code",
   "execution_count": 101,
   "metadata": {},
   "outputs": [
    {
     "data": {
      "text/plain": [
       "('RAB10_HUMAN',\n",
       " 'MAKKTYDLLFKLLLIGDSGVGKTCVLFRFSDDAFNTTFISTIGIDFKIKTVELQGKKIKLQIWDTAGQERFHTITTSYYRGAMGIMLVYDITNGKSFENISKWLRNIDEHANEDVERMLLGNKCDMDDKRVVPKGKGEQIAREHGIRFFETSAKANINIEKAFLTLAEDILRKTPVKEPNSENVDISSGGGVTGWKSKCC',\n",
       " [['RAB10_HUMAN', 'strand', '7', '15'],\n",
       "  ['RAB10_HUMAN', 'helix', '22', '31'],\n",
       "  ['RAB10_HUMAN', 'strand', '43', '53'],\n",
       "  ['RAB10_HUMAN', 'strand', '56', '65'],\n",
       "  ['RAB10_HUMAN', 'helix', '69', '71'],\n",
       "  ['RAB10_HUMAN', 'helix', '72', '75'],\n",
       "  ['RAB10_HUMAN', 'helix', '76', '78'],\n",
       "  ['RAB10_HUMAN', 'turn', '79', '81'],\n",
       "  ['RAB10_HUMAN', 'strand', '83', '90'],\n",
       "  ['RAB10_HUMAN', 'helix', '94', '98'],\n",
       "  ['RAB10_HUMAN', 'helix', '100', '110'],\n",
       "  ['RAB10_HUMAN', 'strand', '116', '122'],\n",
       "  ['RAB10_HUMAN', 'helix', '127', '129'],\n",
       "  ['RAB10_HUMAN', 'helix', '134', '143'],\n",
       "  ['RAB10_HUMAN', 'strand', '147', '150'],\n",
       "  ['RAB10_HUMAN', 'turn', '153', '156'],\n",
       "  ['RAB10_HUMAN', 'strand', '157', '159'],\n",
       "  ['RAB10_HUMAN', 'helix', '160', '172']])"
      ]
     },
     "execution_count": 101,
     "metadata": {},
     "output_type": "execute_result"
    }
   ],
   "source": [
    "def entryCommentParser(entry_name, comments):\n",
    "    comm_list = []\n",
    "    for comment in comments:\n",
    "        comm_arr = [entry_name]\n",
    "        comm_type = comment.get(\"@type\",None)\n",
    "        value = None\n",
    "        if comm_type == 'interaction':\n",
    "            for interaction in comment.get('interactant'):\n",
    "                value = interaction.get('@intactId')\n",
    "        elif comm_type == 'similarity':\n",
    "            None\n",
    "        comm_arr.extend([comm_type, value])\n",
    "        comm_list.append(comm_arr)\n",
    "    return comm_list\n",
    "\n",
    "def secStrucParser(entry_name, features):\n",
    "    \"\"\"Right now I only want features that are annotations of;\n",
    "    \n",
    "    -strand (beta sheet)\n",
    "    -helix  (alpha helix)\n",
    "    -turn   (highly structured secondary structure)\n",
    "    \n",
    "    \"\"\"\n",
    "    \n",
    "#     types = []\n",
    "    feat_arr = []\n",
    "    for feature in features:\n",
    "        feat_type = feature.get(\"@type\")\n",
    "        if feat_type in ['strand','helix','turn']:\n",
    "            feat_locations = feature.get('location')\n",
    "            feat_begin = feat_locations.get('begin').get('@position')\n",
    "            feat_end = feat_locations.get('end').get('@position')\n",
    "            feat_arr.append([entry_name, feat_type, feat_begin, feat_end])\n",
    "    return feat_arr\n",
    "#     return types\n",
    "\n",
    "def entryParser(entry):\n",
    "    # Get name\n",
    "    entry_name = entry.get('name')\n",
    "    # Get sequence\n",
    "    entry_seq = entry.get('sequence').get('#text').replace(\"\\n\",\"\").strip()\n",
    "    # Parse features\n",
    "    entry_features = entry.get('feature')\n",
    "    sec_struc_list = secStrucParser(entry_name, entry_features)\n",
    "    # Parse comments\n",
    "    #entry_comments = entry.get('comment', None)\n",
    "    #if entry_comments != None:\n",
    "    #    comm_list = entryCommentParser(entry_name, entry_comments)\n",
    "    return entry_name, entry_seq, sec_struc_list #, comm_list #entry_gene\n",
    "\n",
    "#for entry in human_protein_dict['uniprot']['entry']:\n",
    "# \n",
    "entryParser(human_protein_dict['uniprot']['entry'][3])"
   ]
  },
  {
   "cell_type": "code",
   "execution_count": null,
   "metadata": {},
   "outputs": [],
   "source": [
    "protein_df = pd.DataFrame(columns=[\"protein\",\"sequence\"])\n",
    "comment_df = pd.DataFrame(columns=[\"protein\",\"comm_type\",\"value\"])\n",
    "sec_struc_df = pd.DataFrame(columns=[\"protein\",\"sec_struc_type\",\"begin\",\"end\"])"
   ]
  }
 ],
 "metadata": {
  "kernelspec": {
   "display_name": "Python 3",
   "language": "python",
   "name": "python3"
  },
  "language_info": {
   "codemirror_mode": {
    "name": "ipython",
    "version": 3
   },
   "file_extension": ".py",
   "mimetype": "text/x-python",
   "name": "python",
   "nbconvert_exporter": "python",
   "pygments_lexer": "ipython3",
   "version": "3.6.6"
  }
 },
 "nbformat": 4,
 "nbformat_minor": 2
}
