{
 "cells": [
  {
   "cell_type": "markdown",
   "metadata": {},
   "source": [
    "# Amino acid characteristics\n",
    "\n",
    "Lets add some features for each fraction of the n-gram (amino acid).\n",
    "\n",
    "1. Class (aliphatic, basic, amide, acid, sulfur-containing, basic aromatic, cyclic, hydroxyl-containing)\n",
    "2. Side chain polarity\n",
    "3. Side chain charge\n",
    "4. Hydropathy index\n",
    "5. Molecular Weight"
   ]
  },
  {
   "cell_type": "code",
   "execution_count": 7,
   "metadata": {},
   "outputs": [],
   "source": [
    "import sqlite3\n",
    "import pandas as pd\n",
    "from tqdm import tqdm_notebook\n",
    "import time"
   ]
  },
  {
   "cell_type": "code",
   "execution_count": 2,
   "metadata": {},
   "outputs": [],
   "source": [
    "amino_acid_dict = {\n",
    "    \"A\":{\n",
    "        \"side_chain_class\":\"aliphatic\",\n",
    "        \"side_chain_polarity\":\"nonpolar\",\n",
    "        \"side_chain_charge\":\"neutral\",\n",
    "        \"hydropathy_index\":1.8,\n",
    "        \"molecular_weight\":89.094\n",
    "    },\n",
    "    \"R\":{\n",
    "        \"side_chain_class\":\"basic\",\n",
    "        \"side_chain_polarity\":\"basic polar\",\n",
    "        \"side_chain_charge\":\"positive\",\n",
    "        \"hydropathy_index\":-4.5,\n",
    "        \"molecular_weight\":174.203\n",
    "    },\n",
    "    \"N\":{\n",
    "        \"side_chain_class\":\"amide\",\n",
    "        \"side_chain_polarity\":\"polar\",\n",
    "        \"side_chain_charge\":\"neutral\",\n",
    "        \"hydropathy_index\":-3.5,\n",
    "        \"molecular_weight\":132.119\n",
    "    },\n",
    "    \"D\":{\n",
    "        \"side_chain_class\":\"acid\",\n",
    "        \"side_chain_polarity\":\"acidic polar\",\n",
    "        \"side_chain_charge\":\"negative\",\n",
    "        \"hydropathy_index\":-3.5,\n",
    "        \"molecular_weight\":133.104\n",
    "    },\n",
    "    \"C\":{\n",
    "        \"side_chain_class\":\"sulfur-containing\",\n",
    "        \"side_chain_polarity\":\"nonpolar\",\n",
    "        \"side_chain_charge\":\"neutral\",\n",
    "        \"hydropathy_index\":2.5,\n",
    "        \"molecular_weight\":121.154\n",
    "    },\n",
    "    \"E\":{\n",
    "        \"side_chain_class\":\"acid\",\n",
    "        \"side_chain_polarity\":\"nonpolar\",\n",
    "        \"side_chain_charge\":\"neutral\",\n",
    "        \"hydropathy_index\":-3.5,\n",
    "        \"molecular_weight\":147.131\n",
    "    },\n",
    "    \"Q\":{\n",
    "        \"side_chain_class\":\"amide\",\n",
    "        \"side_chain_polarity\":\"polar\",\n",
    "        \"side_chain_charge\":\"neutral\",\n",
    "        \"hydropathy_index\":-3.5,\n",
    "        \"molecular_weight\":146.146\n",
    "    },\n",
    "    \"G\":{\n",
    "        \"side_chain_class\":\"aliphatic\",\n",
    "        \"side_chain_polarity\":\"nonpolar\",\n",
    "        \"side_chain_charge\":\"neutral\",\n",
    "        \"hydropathy_index\":-0.4,\n",
    "        \"molecular_weight\":75.067\n",
    "    },\n",
    "    \"H\":{\n",
    "        \"side_chain_class\":\"basic aromatic\",\n",
    "        \"side_chain_polarity\":\"basic polar\",\n",
    "        \"side_chain_charge\":\"neutral\",\n",
    "        \"hydropathy_index\":-3.2,\n",
    "        \"molecular_weight\":155.156\n",
    "    },\n",
    "    \"I\":{\n",
    "        \"side_chain_class\":\"aliphatic\",\n",
    "        \"side_chain_polarity\":\"nonpolar\",\n",
    "        \"side_chain_charge\":\"neutral\",\n",
    "        \"hydropathy_index\":4.5,\n",
    "        \"molecular_weight\":131.175\n",
    "    },\n",
    "    \"L\":{\n",
    "        \"side_chain_class\":\"aliphatic\",\n",
    "        \"side_chain_polarity\":\"nonpolar\",\n",
    "        \"side_chain_charge\":\"neutral\",\n",
    "        \"hydropathy_index\":3.8,\n",
    "        \"molecular_weight\":131.175\n",
    "    },\n",
    "    \"K\":{\n",
    "        \"side_chain_class\":\"basic\",\n",
    "        \"side_chain_polarity\":\"basic polar\",\n",
    "        \"side_chain_charge\":\"positive\",\n",
    "        \"hydropathy_index\":-3.9,\n",
    "        \"molecular_weight\":146.189\n",
    "    },\n",
    "    \"M\":{\n",
    "        \"side_chain_class\":\"sulfur-containing\",\n",
    "        \"side_chain_polarity\":\"nonpolar\",\n",
    "        \"side_chain_charge\":\"neutral\",\n",
    "        \"hydropathy_index\":1.9,\n",
    "        \"molecular_weight\":149.208\n",
    "    },\n",
    "    \"F\":{\n",
    "        \"side_chain_class\":\"aromatic\",\n",
    "        \"side_chain_polarity\":\"nonpolar\",\n",
    "        \"side_chain_charge\":\"neutral\",\n",
    "        \"hydropathy_index\":2.8,\n",
    "        \"molecular_weight\":165.192\n",
    "    },\n",
    "    \"P\":{\n",
    "        \"side_chain_class\":\"cyclic\",\n",
    "        \"side_chain_polarity\":\"nonpolar\",\n",
    "        \"side_chain_charge\":\"neutral\",\n",
    "        \"hydropathy_index\":-1.6,\n",
    "        \"molecular_weight\":115.132\n",
    "    },\n",
    "    \"S\":{\n",
    "        \"side_chain_class\":\"hydroxyl-containing\",\n",
    "        \"side_chain_polarity\":\"polar\",\n",
    "        \"side_chain_charge\":\"neutral\",\n",
    "        \"hydropathy_index\":-0.8,\n",
    "        \"molecular_weight\":105.093\n",
    "    },\n",
    "    \"T\":{\n",
    "        \"side_chain_class\":\"hydroxyl-containing\",\n",
    "        \"side_chain_polarity\":\"polar\",\n",
    "        \"side_chain_charge\":\"neutral\",\n",
    "        \"hydropathy_index\":-0.7,\n",
    "        \"molecular_weight\":119.119\n",
    "    },\n",
    "    \"W\":{\n",
    "        \"side_chain_class\":\"aromatic\",\n",
    "        \"side_chain_polarity\":\"nonpolar\",\n",
    "        \"side_chain_charge\":\"neutral\",\n",
    "        \"hydropathy_index\":-0.9,\n",
    "        \"molecular_weight\":204.228\n",
    "    },\n",
    "    \"Y\":{\n",
    "        \"side_chain_class\":\"aromatic\",\n",
    "        \"side_chain_polarity\":\"polar\",\n",
    "        \"side_chain_charge\":\"neutral\",\n",
    "        \"hydropathy_index\":-1.3,\n",
    "        \"molecular_weight\":181.191\n",
    "    },\n",
    "    \"V\":{\n",
    "        \"side_chain_class\":\"aliphatic\",\n",
    "        \"side_chain_polarity\":\"nonpolar\",\n",
    "        \"side_chain_charge\":\"neutral\",\n",
    "        \"hydropathy_index\":4.2,\n",
    "        \"molecular_weight\":117.148\n",
    "    }\n",
    "}"
   ]
  },
  {
   "cell_type": "code",
   "execution_count": 9,
   "metadata": {},
   "outputs": [],
   "source": [
    "gram_val_cols = []\n",
    "\n",
    "for i in range(1,6):\n",
    "    base = \"gram_\"+str(i)+\"_\"\n",
    "    gram_val_cols.extend(\n",
    "        [\n",
    "            base+\"side_class\",\n",
    "            base+\"side_polarity\",\n",
    "            base+\"side_charge\",\n",
    "            base+\"hydropathy_index\",\n",
    "            base+\"mol_weight\"\n",
    "        ]\n",
    "    )"
   ]
  },
  {
   "cell_type": "code",
   "execution_count": 3,
   "metadata": {
    "scrolled": true
   },
   "outputs": [
    {
     "data": {
      "text/html": [
       "<div>\n",
       "<style scoped>\n",
       "    .dataframe tbody tr th:only-of-type {\n",
       "        vertical-align: middle;\n",
       "    }\n",
       "\n",
       "    .dataframe tbody tr th {\n",
       "        vertical-align: top;\n",
       "    }\n",
       "\n",
       "    .dataframe thead th {\n",
       "        text-align: right;\n",
       "    }\n",
       "</style>\n",
       "<table border=\"1\" class=\"dataframe\">\n",
       "  <thead>\n",
       "    <tr style=\"text-align: right;\">\n",
       "      <th></th>\n",
       "      <th>protein</th>\n",
       "      <th>gram_num</th>\n",
       "      <th>gram_1</th>\n",
       "      <th>gram_2</th>\n",
       "      <th>gram_3</th>\n",
       "      <th>gram_4</th>\n",
       "      <th>gram_5</th>\n",
       "    </tr>\n",
       "  </thead>\n",
       "  <tbody>\n",
       "    <tr>\n",
       "      <th>4718372</th>\n",
       "      <td>UCP1_HUMAN</td>\n",
       "      <td>285</td>\n",
       "      <td>M</td>\n",
       "      <td>F</td>\n",
       "      <td>V</td>\n",
       "      <td>C</td>\n",
       "      <td>F</td>\n",
       "    </tr>\n",
       "    <tr>\n",
       "      <th>7559293</th>\n",
       "      <td>MRCKG_HUMAN</td>\n",
       "      <td>1055</td>\n",
       "      <td>E</td>\n",
       "      <td>R</td>\n",
       "      <td>W</td>\n",
       "      <td>L</td>\n",
       "      <td>Q</td>\n",
       "    </tr>\n",
       "    <tr>\n",
       "      <th>8494377</th>\n",
       "      <td>ZN850_HUMAN</td>\n",
       "      <td>595</td>\n",
       "      <td>G</td>\n",
       "      <td>K</td>\n",
       "      <td>S</td>\n",
       "      <td>F</td>\n",
       "      <td>T</td>\n",
       "    </tr>\n",
       "    <tr>\n",
       "      <th>1017894</th>\n",
       "      <td>SFT2B_HUMAN</td>\n",
       "      <td>113</td>\n",
       "      <td>L</td>\n",
       "      <td>C</td>\n",
       "      <td>S</td>\n",
       "      <td>A</td>\n",
       "      <td>F</td>\n",
       "    </tr>\n",
       "    <tr>\n",
       "      <th>2410678</th>\n",
       "      <td>CERU_HUMAN</td>\n",
       "      <td>627</td>\n",
       "      <td>M</td>\n",
       "      <td>Y</td>\n",
       "      <td>G</td>\n",
       "      <td>N</td>\n",
       "      <td>Q</td>\n",
       "    </tr>\n",
       "  </tbody>\n",
       "</table>\n",
       "</div>"
      ],
      "text/plain": [
       "             protein  gram_num gram_1 gram_2 gram_3 gram_4 gram_5\n",
       "4718372   UCP1_HUMAN       285      M      F      V      C      F\n",
       "7559293  MRCKG_HUMAN      1055      E      R      W      L      Q\n",
       "8494377  ZN850_HUMAN       595      G      K      S      F      T\n",
       "1017894  SFT2B_HUMAN       113      L      C      S      A      F\n",
       "2410678   CERU_HUMAN       627      M      Y      G      N      Q"
      ]
     },
     "execution_count": 3,
     "metadata": {},
     "output_type": "execute_result"
    }
   ],
   "source": [
    "conn = sqlite3.connect(\"training_final.db\")\n",
    "ngrams_df = pd.read_sql('SELECT protein, gram_num, gram_1, gram_2, gram_3, gram_4, gram_5 from protein_ngram',con=conn)\n",
    "conn.close()\n",
    "ngrams_df.sample(5)"
   ]
  },
  {
   "cell_type": "code",
   "execution_count": 4,
   "metadata": {},
   "outputs": [],
   "source": [
    "def ngramMapper(grams):\n",
    "    return_arr = []\n",
    "    for gram in grams:\n",
    "        if gram == \"U\":\n",
    "            gram = \"C\"\n",
    "        gram_vals = list(amino_acid_dict[gram].values())\n",
    "        return_arr.extend(gram_vals)\n",
    "    return return_arr"
   ]
  },
  {
   "cell_type": "code",
   "execution_count": 11,
   "metadata": {},
   "outputs": [
    {
     "data": {
      "application/vnd.jupyter.widget-view+json": {
       "model_id": "eee7226dbd3e4ab2b8502239fcf9c2aa",
       "version_major": 2,
       "version_minor": 0
      },
      "text/plain": [
       "HBox(children=(IntProgress(value=0, max=10), HTML(value='')))"
      ]
     },
     "metadata": {},
     "output_type": "display_data"
    },
    {
     "name": "stdout",
     "output_type": "stream",
     "text": [
      "\n"
     ]
    }
   ],
   "source": [
    "# Find which chunk_size is the fastest\n",
    "measured_times = []\n",
    "for test_chunk in tqdm_notebook([100, 500, 1000, 1500, 2000, 4000, 8000, 10000, 15000, 20000]):\n",
    "    start_time = time.time()\n",
    "    \n",
    "    start = 0\n",
    "    end = test_chunk\n",
    "        \n",
    "    ngram_df_chunk = ngrams_df.iloc[start:end,:]\n",
    "    \n",
    "    chunk_vals = ngram_df_chunk.apply(\n",
    "        lambda row: ngramMapper(\n",
    "            row[['gram_1','gram_2','gram_3','gram_4','gram_5']].values\n",
    "        ),\n",
    "        axis=1\n",
    "    ).values.tolist()\n",
    "    \n",
    "    chunk_df = pd.DataFrame(chunk_vals, columns=gram_val_cols, index=range(start,end))\n",
    "        \n",
    "    write_df = pd.concat(\n",
    "        [ngram_df_chunk[['protein','gram_num']], chunk_df],\n",
    "        axis=1,\n",
    "        sort=False\n",
    "    )\n",
    "    \n",
    "    spent_time = time.time() - start_time\n",
    "    \n",
    "    measured_times.append([test_chunk, spent_time])"
   ]
  },
  {
   "cell_type": "code",
   "execution_count": 12,
   "metadata": {},
   "outputs": [
    {
     "data": {
      "text/plain": [
       "<matplotlib.axes._subplots.AxesSubplot at 0x273767bb358>"
      ]
     },
     "execution_count": 12,
     "metadata": {},
     "output_type": "execute_result"
    },
    {
     "data": {
      "image/png": "[encoded data removed]",
      "text/plain": [
       "<Figure size 432x288 with 1 Axes>"
      ]
     },
     "metadata": {
      "needs_background": "light"
     },
     "output_type": "display_data"
    }
   ],
   "source": [
    "time_df = pd.DataFrame(measured_times, columns=['chunk_size','time_spent'])\n",
    "time_df.loc[:,'iterations_needed'] = ngrams_df.shape[0] / time_df['chunk_size']\n",
    "time_df.loc[:,'time_to_completion'] = (time_df['iterations_needed'] * time_df['time_spent']) / 60 / 60\n",
    "time_df.sort_values('time_to_completion',inplace=True, ascending=False)\n",
    "time_df.plot(kind='bar', x=\"chunk_size\", y=\"time_to_completion\")"
   ]
  },
  {
   "cell_type": "markdown",
   "metadata": {},
   "source": [
    "Looks like the ideal chunk size is around 8000."
   ]
  }
 ],
 "metadata": {
  "kernelspec": {
   "display_name": "Python 3",
   "language": "python",
   "name": "python3"
  },
  "language_info": {
   "codemirror_mode": {
    "name": "ipython",
    "version": 3
   },
   "file_extension": ".py",
   "mimetype": "text/x-python",
   "name": "python",
   "nbconvert_exporter": "python",
   "pygments_lexer": "ipython3",
   "version": "3.6.6"
  }
 },
 "nbformat": 4,
 "nbformat_minor": 2
}
