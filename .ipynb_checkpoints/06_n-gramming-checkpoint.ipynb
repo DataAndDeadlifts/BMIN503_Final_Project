{
 "cells": [
  {
   "cell_type": "markdown",
   "metadata": {},
   "source": [
    "# N-Gram Strategy\n",
    "\n",
    "Break my sequences down into n-grams. Then;\n",
    "1. merge/map the protein-level sequence features into the n-gram row\n",
    "2. merge/map the amino acid-level features into the n-gram row\n",
    "3. build the final feature matrix\n",
    "4. do some feature selection, dimension reduction\n",
    "5. train the model\n",
    "6. evaluate"
   ]
  },
  {
   "cell_type": "code",
   "execution_count": 7,
   "metadata": {},
   "outputs": [],
   "source": [
    "import sqlite3\n",
    "import nltk\n",
    "import pandas as pd\n",
    "import os\n",
    "from tqdm import tqdm_notebook\n",
    "import time"
   ]
  },
  {
   "cell_type": "code",
   "execution_count": 2,
   "metadata": {},
   "outputs": [
    {
     "data": {
      "text/html": [
       "<div>\n",
       "<style scoped>\n",
       "    .dataframe tbody tr th:only-of-type {\n",
       "        vertical-align: middle;\n",
       "    }\n",
       "\n",
       "    .dataframe tbody tr th {\n",
       "        vertical-align: top;\n",
       "    }\n",
       "\n",
       "    .dataframe thead th {\n",
       "        text-align: right;\n",
       "    }\n",
       "</style>\n",
       "<table border=\"1\" class=\"dataframe\">\n",
       "  <thead>\n",
       "    <tr style=\"text-align: right;\">\n",
       "      <th></th>\n",
       "      <th>protein</th>\n",
       "      <th>accession</th>\n",
       "      <th>sequence</th>\n",
       "    </tr>\n",
       "  </thead>\n",
       "  <tbody>\n",
       "    <tr>\n",
       "      <th>0</th>\n",
       "      <td>RL37A_HUMAN</td>\n",
       "      <td>P61513,P12751,Q6FGF5</td>\n",
       "      <td>MAKRTKKVGIVGKYGTRYGASLRKMVKKIEISQHAKYTCSFCGKTK...</td>\n",
       "    </tr>\n",
       "    <tr>\n",
       "      <th>1</th>\n",
       "      <td>PYRG1_HUMAN</td>\n",
       "      <td>P17812,B4DR64,D3DPW1,Q5VW67,Q96GK6</td>\n",
       "      <td>MKYILVTGGVISGIGKGIIASSVGTILKSCGLHVTSIKIDPYINID...</td>\n",
       "    </tr>\n",
       "    <tr>\n",
       "      <th>2</th>\n",
       "      <td>RL6_HUMAN</td>\n",
       "      <td>Q02878,Q2M3Q3,Q8WW97</td>\n",
       "      <td>MAGEKVEKPDTKEKKPEAKKVDAGGKVKKGNLKAKKPKKGKPHCSR...</td>\n",
       "    </tr>\n",
       "    <tr>\n",
       "      <th>3</th>\n",
       "      <td>RAB10_HUMAN</td>\n",
       "      <td>P61026,D6W538,O88386,Q6IA52,Q9D7X6,Q9H0T3</td>\n",
       "      <td>MAKKTYDLLFKLLLIGDSGVGKTCVLFRFSDDAFNTTFISTIGIDF...</td>\n",
       "    </tr>\n",
       "    <tr>\n",
       "      <th>4</th>\n",
       "      <td>RAB30_HUMAN</td>\n",
       "      <td>Q15771,Q6FGK1,Q6MZH2,Q96CI8</td>\n",
       "      <td>MSMEDYDFLFKIVLIGNAGVGKTCLVRRFTQGLFPPGQGATIGVDF...</td>\n",
       "    </tr>\n",
       "  </tbody>\n",
       "</table>\n",
       "</div>"
      ],
      "text/plain": [
       "       protein                                  accession  \\\n",
       "0  RL37A_HUMAN                       P61513,P12751,Q6FGF5   \n",
       "1  PYRG1_HUMAN         P17812,B4DR64,D3DPW1,Q5VW67,Q96GK6   \n",
       "2    RL6_HUMAN                       Q02878,Q2M3Q3,Q8WW97   \n",
       "3  RAB10_HUMAN  P61026,D6W538,O88386,Q6IA52,Q9D7X6,Q9H0T3   \n",
       "4  RAB30_HUMAN                Q15771,Q6FGK1,Q6MZH2,Q96CI8   \n",
       "\n",
       "                                            sequence  \n",
       "0  MAKRTKKVGIVGKYGTRYGASLRKMVKKIEISQHAKYTCSFCGKTK...  \n",
       "1  MKYILVTGGVISGIGKGIIASSVGTILKSCGLHVTSIKIDPYINID...  \n",
       "2  MAGEKVEKPDTKEKKPEAKKVDAGGKVKKGNLKAKKPKKGKPHCSR...  \n",
       "3  MAKKTYDLLFKLLLIGDSGVGKTCVLFRFSDDAFNTTFISTIGIDF...  \n",
       "4  MSMEDYDFLFKIVLIGNAGVGKTCLVRRFTQGLFPPGQGATIGVDF...  "
      ]
     },
     "metadata": {},
     "output_type": "display_data"
    },
    {
     "data": {
      "text/html": [
       "<div>\n",
       "<style scoped>\n",
       "    .dataframe tbody tr th:only-of-type {\n",
       "        vertical-align: middle;\n",
       "    }\n",
       "\n",
       "    .dataframe tbody tr th {\n",
       "        vertical-align: top;\n",
       "    }\n",
       "\n",
       "    .dataframe thead th {\n",
       "        text-align: right;\n",
       "    }\n",
       "</style>\n",
       "<table border=\"1\" class=\"dataframe\">\n",
       "  <thead>\n",
       "    <tr style=\"text-align: right;\">\n",
       "      <th></th>\n",
       "      <th>uniprot_id</th>\n",
       "      <th>begin</th>\n",
       "      <th>end</th>\n",
       "    </tr>\n",
       "  </thead>\n",
       "  <tbody>\n",
       "    <tr>\n",
       "      <th>0</th>\n",
       "      <td>P01236</td>\n",
       "      <td>35</td>\n",
       "      <td>62</td>\n",
       "    </tr>\n",
       "    <tr>\n",
       "      <th>1</th>\n",
       "      <td>P01236</td>\n",
       "      <td>71</td>\n",
       "      <td>85</td>\n",
       "    </tr>\n",
       "    <tr>\n",
       "      <th>2</th>\n",
       "      <td>P01258</td>\n",
       "      <td>90</td>\n",
       "      <td>95</td>\n",
       "    </tr>\n",
       "    <tr>\n",
       "      <th>3</th>\n",
       "      <td>P01258</td>\n",
       "      <td>99</td>\n",
       "      <td>104</td>\n",
       "    </tr>\n",
       "    <tr>\n",
       "      <th>4</th>\n",
       "      <td>P02647</td>\n",
       "      <td>70</td>\n",
       "      <td>83</td>\n",
       "    </tr>\n",
       "  </tbody>\n",
       "</table>\n",
       "</div>"
      ],
      "text/plain": [
       "  uniprot_id  begin  end\n",
       "0     P01236     35   62\n",
       "1     P01236     71   85\n",
       "2     P01258     90   95\n",
       "3     P01258     99  104\n",
       "4     P02647     70   83"
      ]
     },
     "metadata": {},
     "output_type": "display_data"
    },
    {
     "data": {
      "text/html": [
       "<div>\n",
       "<style scoped>\n",
       "    .dataframe tbody tr th:only-of-type {\n",
       "        vertical-align: middle;\n",
       "    }\n",
       "\n",
       "    .dataframe tbody tr th {\n",
       "        vertical-align: top;\n",
       "    }\n",
       "\n",
       "    .dataframe thead th {\n",
       "        text-align: right;\n",
       "    }\n",
       "</style>\n",
       "<table border=\"1\" class=\"dataframe\">\n",
       "  <thead>\n",
       "    <tr style=\"text-align: right;\">\n",
       "      <th></th>\n",
       "      <th>protein</th>\n",
       "      <th>uniprot_id</th>\n",
       "    </tr>\n",
       "  </thead>\n",
       "  <tbody>\n",
       "    <tr>\n",
       "      <th>0</th>\n",
       "      <td>TADBP_HUMAN</td>\n",
       "      <td>Q13148</td>\n",
       "    </tr>\n",
       "    <tr>\n",
       "      <th>1</th>\n",
       "      <td>BGH3_HUMAN</td>\n",
       "      <td>Q15582</td>\n",
       "    </tr>\n",
       "    <tr>\n",
       "      <th>2</th>\n",
       "      <td>APOC3_HUMAN</td>\n",
       "      <td>P02656</td>\n",
       "    </tr>\n",
       "    <tr>\n",
       "      <th>3</th>\n",
       "      <td>ITM2B_HUMAN</td>\n",
       "      <td>Q9Y287</td>\n",
       "    </tr>\n",
       "    <tr>\n",
       "      <th>4</th>\n",
       "      <td>ITM2B_HUMAN</td>\n",
       "      <td>Q9Y287</td>\n",
       "    </tr>\n",
       "    <tr>\n",
       "      <th>5</th>\n",
       "      <td>GELS_HUMAN</td>\n",
       "      <td>P06396</td>\n",
       "    </tr>\n",
       "    <tr>\n",
       "      <th>6</th>\n",
       "      <td>NFH_HUMAN</td>\n",
       "      <td>P12036</td>\n",
       "    </tr>\n",
       "    <tr>\n",
       "      <th>7</th>\n",
       "      <td>APOA2_HUMAN</td>\n",
       "      <td>P02652</td>\n",
       "    </tr>\n",
       "  </tbody>\n",
       "</table>\n",
       "</div>"
      ],
      "text/plain": [
       "       protein uniprot_id\n",
       "0  TADBP_HUMAN     Q13148\n",
       "1   BGH3_HUMAN     Q15582\n",
       "2  APOC3_HUMAN     P02656\n",
       "3  ITM2B_HUMAN     Q9Y287\n",
       "4  ITM2B_HUMAN     Q9Y287\n",
       "5   GELS_HUMAN     P06396\n",
       "6    NFH_HUMAN     P12036\n",
       "7  APOA2_HUMAN     P02652"
      ]
     },
     "metadata": {},
     "output_type": "display_data"
    },
    {
     "data": {
      "text/plain": [
       "(None, None, None)"
      ]
     },
     "execution_count": 2,
     "metadata": {},
     "output_type": "execute_result"
    }
   ],
   "source": [
    "conn = sqlite3.connect(\"human_protein.db\")\n",
    "prot_df = pd.read_sql('select protein, accession, sequence from protein',con=conn)\n",
    "amy_df = pd.read_sql('select * from amyloid_prion_id_mapped', con=conn)\n",
    "ignore_prots = pd.read_sql('select protein, uniprot_id from amy_ignore', con=conn)\n",
    "conn.close()\n",
    "display(prot_df.head()), display(amy_df.head()), display(ignore_prots)"
   ]
  },
  {
   "cell_type": "code",
   "execution_count": 3,
   "metadata": {},
   "outputs": [],
   "source": [
    "# Drop ignore rows\n",
    "prot_df = prot_df[prot_df['protein'].isin(ignore_prots['protein'].values.tolist())==False]\n",
    "amy_df = amy_df[amy_df['uniprot_id'].isin(ignore_prots['uniprot_id'].values.tolist())==False]"
   ]
  },
  {
   "cell_type": "code",
   "execution_count": 4,
   "metadata": {},
   "outputs": [],
   "source": [
    "def nGrammer(protein, seq, n):\n",
    "    return [[protein, i+1]+list(x) for i, x in enumerate(nltk.ngrams(seq, n))]\n",
    "\n",
    "def dfNGrammer(chunk, num_grams):\n",
    "    gram_cols = [\"protein\",\"gram_num\"]+[\"gram_\"+str(i+1) for i in range(num_grams)]\n",
    "    seq_grams = []\n",
    "    seq_grams.extend([val for sublist in chunk.apply(lambda row: nGrammer(row['protein'], row['sequence'], num_grams),axis=1) for val in sublist])\n",
    "    gram_df = pd.DataFrame(seq_grams, columns=gram_cols)\n",
    "    return gram_df"
   ]
  },
  {
   "cell_type": "code",
   "execution_count": 5,
   "metadata": {},
   "outputs": [],
   "source": [
    "n = 5\n",
    "\n",
    "#ngrams = dfNGrammer(prot_df,n)\n",
    "#ngram_df = ngrams.merge(prot_df[['protein','accession']],on='protein',how='left')"
   ]
  },
  {
   "cell_type": "code",
   "execution_count": 15,
   "metadata": {},
   "outputs": [
    {
     "data": {
      "application/vnd.jupyter.widget-view+json": {
       "model_id": "8c357495c5d643669fac4d1a516bf42b",
       "version_major": 2,
       "version_minor": 0
      },
      "text/plain": [
       "HBox(children=(IntProgress(value=0, max=18), HTML(value='')))"
      ]
     },
     "metadata": {},
     "output_type": "display_data"
    },
    {
     "name": "stdout",
     "output_type": "stream",
     "text": [
      "\n"
     ]
    }
   ],
   "source": [
    "chunk_sizes = [25, 50, 75, 90, 100, 200, 300, 400, 500, 600, 700, 800, 900, 1000, 2000, 3000, 4000, 5000]\n",
    "    \n",
    "# Find which chunk_size is the fastest\n",
    "measured_times = []\n",
    "for test_chunk in tqdm_notebook(chunk_sizes):\n",
    "    start_time = time.time()\n",
    "    \n",
    "    start = 0\n",
    "    end = test_chunk\n",
    "    \n",
    "    prot_slice = prot_df.loc[start:end,:]\n",
    "    \n",
    "    prot_slice_ngram_df = dfNGrammer(prot_slice, n)\n",
    "    \n",
    "    spent_time = time.time() - start_time\n",
    "    \n",
    "    measured_times.append([test_chunk, spent_time])"
   ]
  },
  {
   "cell_type": "code",
   "execution_count": 16,
   "metadata": {},
   "outputs": [
    {
     "data": {
      "text/plain": [
       "<matplotlib.axes._subplots.AxesSubplot at 0x1de96c0a4e0>"
      ]
     },
     "execution_count": 16,
     "metadata": {},
     "output_type": "execute_result"
    },
    {
     "data": {
      "image/png": "[encoded data removed]",
      "text/plain": [
       "<Figure size 432x288 with 1 Axes>"
      ]
     },
     "metadata": {
      "needs_background": "light"
     },
     "output_type": "display_data"
    }
   ],
   "source": [
    "time_df = pd.DataFrame(measured_times, columns=['chunk_size','time_spent'])\n",
    "time_df.loc[:,'iterations_needed'] = prot_df.shape[0] / time_df['chunk_size']\n",
    "time_df.loc[:,'time_to_completion'] = (time_df['iterations_needed'] * time_df['time_spent']) / 60 / 60\n",
    "time_df.sort_values('time_to_completion',inplace=True, ascending=False)\n",
    "time_df.plot(kind='bar', x=\"chunk_size\", y=\"time_to_completion\")"
   ]
  },
  {
   "cell_type": "markdown",
   "metadata": {},
   "source": [
    "Looks like 100 is the right chunk size for n-gramming!"
   ]
  },
  {
   "cell_type": "code",
   "execution_count": 17,
   "metadata": {},
   "outputs": [
    {
     "data": {
      "application/vnd.jupyter.widget-view+json": {
       "model_id": "82ea60eca0764f499cb982885728e09c",
       "version_major": 2,
       "version_minor": 0
      },
      "text/plain": [
       "HBox(children=(IntProgress(value=0, max=111), HTML(value='')))"
      ]
     },
     "metadata": {},
     "output_type": "display_data"
    },
    {
     "name": "stdout",
     "output_type": "stream",
     "text": [
      "\n"
     ]
    }
   ],
   "source": [
    "# reference dict for sequence annotations\n",
    "seq_dict = dict()\n",
    "\n",
    "for prot_id in tqdm_notebook(amy_df.uniprot_id.unique()):\n",
    "    vals = amy_df[amy_df['uniprot_id']==prot_id][['begin','end']].values.tolist()\n",
    "    range_vals = []\n",
    "    for val in vals:\n",
    "        range_vals.extend(range(val[0], val[1]+1))\n",
    "    seq_dict[prot_id] = range_vals"
   ]
  },
  {
   "cell_type": "code",
   "execution_count": 23,
   "metadata": {},
   "outputs": [],
   "source": [
    "# Build test ngram_df\n",
    "ngrams = dfNGrammer(prot_df.iloc[:1000,:],n)\n",
    "ngram_df = ngrams.merge(prot_df[['protein','accession']],on='protein',how='left')"
   ]
  },
  {
   "cell_type": "code",
   "execution_count": 29,
   "metadata": {},
   "outputs": [],
   "source": [
    "def amyloidSeqMapper(protein, gram_num, grams, accession, amyloid_ref):\n",
    "    n = len(grams)\n",
    "    acc_ids = accession.split(',')\n",
    "    id_matches = [x for x in acc_ids if x in seq_dict.keys()]\n",
    "    # If none of the accession keys are in my amyloid annotation dict\n",
    "    if len(id_matches)==0:\n",
    "        result = [0]*n\n",
    "    else:\n",
    "        # Get the values from the dict to check against\n",
    "        tag_id = id_matches[0]\n",
    "        prot_vals = seq_dict[tag_id]\n",
    "        range_start = gram_num\n",
    "        range_end = gram_num+n\n",
    "        gram_range = list(range(range_start,range_end))\n",
    "        result = [0 if x not in prot_vals else 1 for x in gram_range]\n",
    "    return pd.Series(result)"
   ]
  },
  {
   "cell_type": "code",
   "execution_count": 32,
   "metadata": {},
   "outputs": [
    {
     "data": {
      "text/plain": [
       "540070"
      ]
     },
     "execution_count": 32,
     "metadata": {},
     "output_type": "execute_result"
    }
   ],
   "source": [
    "ngram_df.shape[0]"
   ]
  },
  {
   "cell_type": "code",
   "execution_count": 37,
   "metadata": {},
   "outputs": [
    {
     "data": {
      "application/vnd.jupyter.widget-view+json": {
       "model_id": "1a0f2602223b471aa352ecf3187fc327",
       "version_major": 2,
       "version_minor": 0
      },
      "text/plain": [
       "HBox(children=(IntProgress(value=0, max=24), HTML(value='')))"
      ]
     },
     "metadata": {},
     "output_type": "display_data"
    }
   ],
   "source": [
    "chunk_sizes = [25, 50, 75, 90, 100, 200, 300, 400, 500, 600,\n",
    "               700, 800, 900, 1000, 2000, 3000, 4000, 5000, 6000,\n",
    "              7000, 8000, 9000, 10000, 20000]\n",
    "    \n",
    "# Find which chunk_size is the fastest\n",
    "measured_times = []\n",
    "for test_chunk in tqdm_notebook(chunk_sizes):\n",
    "    start_time = time.time()\n",
    "    \n",
    "    start = i[0]\n",
    "    end = test_chunk\n",
    "    \n",
    "    if end != None:\n",
    "        ngram_slice = ngram_df.loc[start:end, :]\n",
    "    else:\n",
    "        ngram_slice = ngram_df.loc[start:, :]\n",
    "        \n",
    "    ngram_vals = ngram_slice.apply(\n",
    "        lambda row: amyloidSeqMapper(\n",
    "            row['protein'], \n",
    "            row['gram_num'],\n",
    "            row[['gram_'+str(i) for i in range(1,n+1)]].values.tolist(),\n",
    "            row['accession'], \n",
    "            amy_df\n",
    "        ), axis=1).values.tolist()\n",
    "    \n",
    "    spent_time = time.time() - start_time\n",
    "    \n",
    "    measured_times.append([test_chunk, spent_time])"
   ]
  },
  {
   "cell_type": "code",
   "execution_count": 38,
   "metadata": {},
   "outputs": [
    {
     "data": {
      "text/plain": [
       "<matplotlib.axes._subplots.AxesSubplot at 0x1de91b132e8>"
      ]
     },
     "execution_count": 38,
     "metadata": {},
     "output_type": "execute_result"
    },
    {
     "data": {
      "image/png": "[encoded data removed]",
      "text/plain": [
       "<Figure size 432x288 with 1 Axes>"
      ]
     },
     "metadata": {
      "needs_background": "light"
     },
     "output_type": "display_data"
    }
   ],
   "source": [
    "time_df = pd.DataFrame(measured_times, columns=['chunk_size','time_spent'])\n",
    "time_df.loc[:,'iterations_needed'] = prot_df.shape[0] / time_df['chunk_size']\n",
    "time_df.loc[:,'time_to_completion'] = (time_df['iterations_needed'] * time_df['time_spent']) / 60 / 60\n",
    "time_df.sort_values('time_to_completion',inplace=True, ascending=False)\n",
    "time_df.plot(kind='bar', x=\"chunk_size\", y=\"time_to_completion\")"
   ]
  },
  {
   "cell_type": "code",
   "execution_count": 39,
   "metadata": {},
   "outputs": [
    {
     "name": "stdout",
     "output_type": "stream",
     "text": [
      "540070\n",
      "[[0, 10000], [10000, 20000], [20000, 30000], [30000, 40000], [40000, 50000]] ... [[500000, 510000], [510000, 520000], [520000, 530000], [530000, 540000], [540000, None]]\n"
     ]
    }
   ],
   "source": [
    "chunk = 10000\n",
    "chunk_list = list(range(0, ngram_df.shape[0],chunk))\n",
    "chunk_pairs = [[chunk_list[i-1], chunk_list[i]] for i, x in enumerate(chunk_list) if i != 0]\n",
    "# Add last little chunk\n",
    "chunk_pairs.append([chunk_pairs[-1][-1], None])\n",
    "print(ngram_df.shape[0])\n",
    "print(chunk_pairs[:5],\"...\",chunk_pairs[-5:])"
   ]
  },
  {
   "cell_type": "code",
   "execution_count": 40,
   "metadata": {},
   "outputs": [],
   "source": [
    "amyloid_cols = ['amyloid_'+str(a) for a in range(1, n+1)]\n",
    "for a_col in amyloid_cols:\n",
    "    ngram_df.loc[:,a_col] = 0"
   ]
  },
  {
   "cell_type": "code",
   "execution_count": 41,
   "metadata": {},
   "outputs": [
    {
     "data": {
      "application/vnd.jupyter.widget-view+json": {
       "model_id": "7889dca6cf944ca7b5116ab72fad7909",
       "version_major": 2,
       "version_minor": 0
      },
      "text/plain": [
       "HBox(children=(IntProgress(value=0, max=5), HTML(value='')))"
      ]
     },
     "metadata": {},
     "output_type": "display_data"
    }
   ],
   "source": [
    "test_vals = []\n",
    "\n",
    "for i in tqdm_notebook(chunk_pairs[:5]):\n",
    "    start = i[0]\n",
    "    end = i[1]\n",
    "    \n",
    "    if end != None:\n",
    "        ngram_slice = ngram_df.loc[start:end, :]\n",
    "    else:\n",
    "        ngram_slice = ngram_df.loc[start:, :]\n",
    "        \n",
    "    ngram_slice.loc[:,amyloid_cols] = ngram_slice.apply(\n",
    "        lambda row: amyloidSeqMapper(\n",
    "            row['protein'], \n",
    "            row['gram_num'],\n",
    "            row[['gram_'+str(i) for i in range(1,n+1)]].values.tolist(),\n",
    "            row['accession'], \n",
    "            amy_df\n",
    "        ), axis=1).values.tolist()\n",
    "    \n",
    "    test_vals.append(ngram_slice)"
   ]
  },
  {
   "cell_type": "code",
   "execution_count": null,
   "metadata": {},
   "outputs": [],
   "source": []
  }
 ],
 "metadata": {
  "kernelspec": {
   "display_name": "Python 3",
   "language": "python",
   "name": "python3"
  },
  "language_info": {
   "codemirror_mode": {
    "name": "ipython",
    "version": 3
   },
   "file_extension": ".py",
   "mimetype": "text/x-python",
   "name": "python",
   "nbconvert_exporter": "python",
   "pygments_lexer": "ipython3",
   "version": "3.6.6"
  }
 },
 "nbformat": 4,
 "nbformat_minor": 2
}
