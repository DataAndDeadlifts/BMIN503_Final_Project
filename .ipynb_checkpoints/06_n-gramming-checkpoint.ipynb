{
 "cells": [
  {
   "cell_type": "markdown",
   "metadata": {},
   "source": [
    "# N-Gram Strategy\n",
    "\n",
    "Break my sequences down into n-grams. Then;\n",
    "1. merge/map the protein-level sequence features into the n-gram row\n",
    "2. merge/map the amino acid-level features into the n-gram row\n",
    "3. build the final feature matrix\n",
    "4. do some feature selection, dimension reduction\n",
    "5. train the model\n",
    "6. evaluate"
   ]
  },
  {
   "cell_type": "code",
   "execution_count": null,
   "metadata": {},
   "outputs": [],
   "source": [
    "import sqlite3\n",
    "import nltk\n",
    "import pandas as pd\n",
    "import os"
   ]
  },
  {
   "cell_type": "code",
   "execution_count": null,
   "metadata": {},
   "outputs": [],
   "source": [
    "conn = sqlite3.connect(\"human_protein.db\")\n",
    "prot_feat = pd.read_sql('select * from protein_features',con=conn)\n",
    "amy_df = pd.read_sql('select * from amyloid', con=conn)\n",
    "conn.close()\n",
    "prot_feat.head()"
   ]
  },
  {
   "cell_type": "code",
   "execution_count": null,
   "metadata": {},
   "outputs": [],
   "source": [
    "def nGrammer(protein, seq, n):\n",
    "    return [[protein, i+1]+list(x) for i, x in enumerate(nltk.ngrams(seq, n))]\n",
    "\n",
    "def dfNGrammer(protein_df, num_grams):\n",
    "    gram_cols = [\"protein\",\"gram_num\"]+[\"gram_\"+str(i+1) for i in range(num_grams)]\n",
    "    seq_grams = []\n",
    "    seq_grams.extend([val for sublist in protein_df.apply(lambda row: nGrammer(row['protein'], row['sequence'], num_grams),axis=1) for val in sublist])\n",
    "    gram_df = pd.DataFrame(seq_grams, columns=gram_cols)\n",
    "    return gram_df"
   ]
  },
  {
   "cell_type": "code",
   "execution_count": null,
   "metadata": {},
   "outputs": [],
   "source": [
    "#ngram_df = dfNGrammer(prot_feat,5)"
   ]
  }
 ],
 "metadata": {
  "kernelspec": {
   "display_name": "Python 3",
   "language": "python",
   "name": "python3"
  },
  "language_info": {
   "codemirror_mode": {
    "name": "ipython",
    "version": 3
   },
   "file_extension": ".py",
   "mimetype": "text/x-python",
   "name": "python",
   "nbconvert_exporter": "python",
   "pygments_lexer": "ipython3",
   "version": "3.6.6"
  }
 },
 "nbformat": 4,
 "nbformat_minor": 2
}
