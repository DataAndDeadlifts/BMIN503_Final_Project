{
 "cells": [
  {
   "cell_type": "markdown",
   "metadata": {},
   "source": [
    "# Purpose\n",
    "\n",
    "Now that we've gathered our raw xml data from uniprot. I need to gather and mark the proteins I have as being amyloid or not, and which sections of their protein turn into amyloids.\n",
    "\n",
    "To do this, I'll be looking at the amypro.net database. I'll first mine the fasta sequences present there."
   ]
  },
  {
   "cell_type": "code",
   "execution_count": 23,
   "metadata": {},
   "outputs": [],
   "source": [
    "import pandas as pd\n",
    "import os\n",
    "import re\n",
    "from Bio import SeqIO\n",
    "from tqdm import tqdm_notebook\n",
    "import sqlite3\n",
    "\n",
    "conn = sqlite3.connect(\"human_protein.db\")"
   ]
  },
  {
   "cell_type": "code",
   "execution_count": 2,
   "metadata": {},
   "outputs": [],
   "source": [
    "amyloid_recs = [x for x in SeqIO.parse(\"data/amypro.fasta\",\"fasta\")]"
   ]
  },
  {
   "cell_type": "code",
   "execution_count": 43,
   "metadata": {},
   "outputs": [],
   "source": [
    "def descriptionParser(description):\n",
    "    desc_re = \"AP\\d{5}\\s\\((.*)\\)\\suniprot=(.*)\\spdbs=(.*)\\spmid=\\{(.*)\\}\\scategory=(.*)\\sprion_domain=(yes|no)\\smutations=\\{(.*)\\}\\sregions=\\[(.*)\\]\"\n",
    "    desc_result = list(re.findall(desc_re, description)[0])\n",
    "    return desc_result\n",
    "\n",
    "def amyloidFastaParser(parse_obj):\n",
    "    name = parse_obj.name\n",
    "    description = parse_obj.description\n",
    "    desc_parsed = descriptionParser(description)\n",
    "    species = desc_parsed[0]\n",
    "    uniprot = desc_parsed[1]\n",
    "    pdbs = [[name, x] for x in desc_parsed[2].split(\",\") if len(x) > 1]\n",
    "    pmid = desc_parsed[3]\n",
    "    category = desc_parsed[4]\n",
    "    prion_domain = desc_parsed[5]\n",
    "    mutations = desc_parsed[6]\n",
    "    regions = [[name]+x.split('-') for x in desc_parsed[7].split(',') if len(x)>0]\n",
    "    seq = str(parse_obj.seq)\n",
    "    \n",
    "    # Write to sqlite\n",
    "    # General table, one entry per amyloid\n",
    "    amyloid_df = pd.DataFrame(\n",
    "        [[name, seq, species, uniprot, pmid, category]],\n",
    "        columns=[\"amy_name\",\"sequence\",\"species\",\"uniprot_id\",\"pmid\",\"category\"]\n",
    "    )\n",
    "    # Protein db references for each amyloid, zero-to-multiple entries\n",
    "    pdb_ref_df = pd.DataFrame(pdbs,columns=[\"amy_name\",\"pdb_ref\"])\n",
    "    # Prion domains, zero-to-multiple entries\n",
    "    prion_df = pd.DataFrame(regions,columns=[\"amy_name\",\"begin\",\"end\"])\n",
    "    \n",
    "    if amyloid_df.shape[0]!=0:\n",
    "        amyloid_df.to_sql('amyloid',conn,if_exists='append',index=False)\n",
    "    if pdb_ref_df.shape[0]!=0:\n",
    "        pdb_ref_df.to_sql('amyloid_pdf_refs',conn,if_exists='append',index=False)\n",
    "    if prion_df.shape[0]!=0:\n",
    "        prion_df.to_sql('amyloid_prion',conn,if_exists='append',index=False)\n"
   ]
  },
  {
   "cell_type": "code",
   "execution_count": 44,
   "metadata": {},
   "outputs": [
    {
     "data": {
      "application/vnd.jupyter.widget-view+json": {
       "model_id": "6c9aad4154104cfb9e1569fb889201d5",
       "version_major": 2,
       "version_minor": 0
      },
      "text/plain": [
       "HBox(children=(IntProgress(value=0, max=143), HTML(value='')))"
      ]
     },
     "metadata": {},
     "output_type": "display_data"
    },
    {
     "name": "stdout",
     "output_type": "stream",
     "text": [
      "\n"
     ]
    }
   ],
   "source": [
    "for amy in tqdm_notebook(amyloid_recs):\n",
    "    amyloidFastaParser(amy)\n"
   ]
  },
  {
   "cell_type": "code",
   "execution_count": null,
   "metadata": {},
   "outputs": [],
   "source": []
  }
 ],
 "metadata": {
  "kernelspec": {
   "display_name": "Python 3",
   "language": "python",
   "name": "python3"
  },
  "language_info": {
   "codemirror_mode": {
    "name": "ipython",
    "version": 3
   },
   "file_extension": ".py",
   "mimetype": "text/x-python",
   "name": "python",
   "nbconvert_exporter": "python",
   "pygments_lexer": "ipython3",
   "version": "3.6.6"
  }
 },
 "nbformat": 4,
 "nbformat_minor": 2
}
