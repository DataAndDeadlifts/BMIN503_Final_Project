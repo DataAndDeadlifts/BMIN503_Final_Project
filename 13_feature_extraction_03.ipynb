{
 "cells": [
  {
   "cell_type": "markdown",
   "metadata": {},
   "source": [
    "# Swerve\n",
    "\n",
    "Building a model off of essentially the protein features didn't produce all that much that was interesting. Lets go back and engineer some more n-gram level features and bake those into a different prediction algorithm."
   ]
  },
  {
   "cell_type": "code",
   "execution_count": 1,
   "metadata": {},
   "outputs": [],
   "source": [
    "import sqlite3\n",
    "from multiprocessing import Pool\n",
    "import pandas as pd\n",
    "import numpy as np\n",
    "from tqdm import tqdm_notebook\n",
    "from matplotlib import pyplot as plt\n",
    "import seaborn as sns\n",
    "import nltk\n",
    "import sklearn\n",
    "from Bio.SeqUtils.ProtParam import ProteinAnalysis\n",
    "import math\n",
    "import time"
   ]
  },
  {
   "cell_type": "code",
   "execution_count": 2,
   "metadata": {},
   "outputs": [],
   "source": [
    "conn = sqlite3.connect(\"protein_training.db\")\n",
    "ngrams_df = pd.read_sql('SELECT * from protein_ngram',con=conn)\n",
    "protein_gram_num = pd.read_sql(\"SELECT DISTINCT protein, COUNT(gram_num) as gram_total FROM protein_ngram GROUP BY protein\", con=conn)\n",
    "conn.close()\n",
    "ngrams_df.drop(\"accession\",axis=1,inplace=True)"
   ]
  },
  {
   "cell_type": "code",
   "execution_count": 3,
   "metadata": {},
   "outputs": [],
   "source": [
    "# Add full n-gram sequence to ngram df\n",
    "ngrams_df.loc[:,'seq'] = ngrams_df['gram_1'] + ngrams_df['gram_2'] + ngrams_df['gram_3'] + ngrams_df['gram_4'] + ngrams_df['gram_5']"
   ]
  },
  {
   "cell_type": "code",
   "execution_count": 4,
   "metadata": {},
   "outputs": [
    {
     "data": {
      "text/html": [
       "<div>\n",
       "<style scoped>\n",
       "    .dataframe tbody tr th:only-of-type {\n",
       "        vertical-align: middle;\n",
       "    }\n",
       "\n",
       "    .dataframe tbody tr th {\n",
       "        vertical-align: top;\n",
       "    }\n",
       "\n",
       "    .dataframe thead th {\n",
       "        text-align: right;\n",
       "    }\n",
       "</style>\n",
       "<table border=\"1\" class=\"dataframe\">\n",
       "  <thead>\n",
       "    <tr style=\"text-align: right;\">\n",
       "      <th></th>\n",
       "      <th>protein</th>\n",
       "      <th>gram_num</th>\n",
       "      <th>gram_1</th>\n",
       "      <th>gram_2</th>\n",
       "      <th>gram_3</th>\n",
       "      <th>gram_4</th>\n",
       "      <th>gram_5</th>\n",
       "      <th>amyloid_1</th>\n",
       "      <th>amyloid_2</th>\n",
       "      <th>amyloid_3</th>\n",
       "      <th>amyloid_4</th>\n",
       "      <th>amyloid_5</th>\n",
       "      <th>seq</th>\n",
       "    </tr>\n",
       "  </thead>\n",
       "  <tbody>\n",
       "    <tr>\n",
       "      <th>8026715</th>\n",
       "      <td>S27A3_HUMAN</td>\n",
       "      <td>223</td>\n",
       "      <td>A</td>\n",
       "      <td>G</td>\n",
       "      <td>P</td>\n",
       "      <td>E</td>\n",
       "      <td>F</td>\n",
       "      <td>0</td>\n",
       "      <td>0</td>\n",
       "      <td>0</td>\n",
       "      <td>0</td>\n",
       "      <td>0</td>\n",
       "      <td>AGPEF</td>\n",
       "    </tr>\n",
       "    <tr>\n",
       "      <th>5825644</th>\n",
       "      <td>ERG24_HUMAN</td>\n",
       "      <td>84</td>\n",
       "      <td>V</td>\n",
       "      <td>A</td>\n",
       "      <td>E</td>\n",
       "      <td>G</td>\n",
       "      <td>Q</td>\n",
       "      <td>0</td>\n",
       "      <td>0</td>\n",
       "      <td>0</td>\n",
       "      <td>0</td>\n",
       "      <td>0</td>\n",
       "      <td>VAEGQ</td>\n",
       "    </tr>\n",
       "    <tr>\n",
       "      <th>624754</th>\n",
       "      <td>SEPT4_HUMAN</td>\n",
       "      <td>141</td>\n",
       "      <td>K</td>\n",
       "      <td>G</td>\n",
       "      <td>F</td>\n",
       "      <td>D</td>\n",
       "      <td>F</td>\n",
       "      <td>0</td>\n",
       "      <td>0</td>\n",
       "      <td>0</td>\n",
       "      <td>0</td>\n",
       "      <td>0</td>\n",
       "      <td>KGFDF</td>\n",
       "    </tr>\n",
       "    <tr>\n",
       "      <th>439871</th>\n",
       "      <td>SPN1_HUMAN</td>\n",
       "      <td>199</td>\n",
       "      <td>C</td>\n",
       "      <td>Q</td>\n",
       "      <td>T</td>\n",
       "      <td>D</td>\n",
       "      <td>F</td>\n",
       "      <td>0</td>\n",
       "      <td>0</td>\n",
       "      <td>0</td>\n",
       "      <td>0</td>\n",
       "      <td>0</td>\n",
       "      <td>CQTDF</td>\n",
       "    </tr>\n",
       "    <tr>\n",
       "      <th>5486309</th>\n",
       "      <td>GGA2_HUMAN</td>\n",
       "      <td>149</td>\n",
       "      <td>R</td>\n",
       "      <td>D</td>\n",
       "      <td>A</td>\n",
       "      <td>Y</td>\n",
       "      <td>Q</td>\n",
       "      <td>0</td>\n",
       "      <td>0</td>\n",
       "      <td>0</td>\n",
       "      <td>0</td>\n",
       "      <td>0</td>\n",
       "      <td>RDAYQ</td>\n",
       "    </tr>\n",
       "  </tbody>\n",
       "</table>\n",
       "</div>"
      ],
      "text/plain": [
       "             protein  gram_num gram_1 gram_2 gram_3 gram_4 gram_5  amyloid_1  \\\n",
       "8026715  S27A3_HUMAN       223      A      G      P      E      F          0   \n",
       "5825644  ERG24_HUMAN        84      V      A      E      G      Q          0   \n",
       "624754   SEPT4_HUMAN       141      K      G      F      D      F          0   \n",
       "439871    SPN1_HUMAN       199      C      Q      T      D      F          0   \n",
       "5486309   GGA2_HUMAN       149      R      D      A      Y      Q          0   \n",
       "\n",
       "         amyloid_2  amyloid_3  amyloid_4  amyloid_5    seq  \n",
       "8026715          0          0          0          0  AGPEF  \n",
       "5825644          0          0          0          0  VAEGQ  \n",
       "624754           0          0          0          0  KGFDF  \n",
       "439871           0          0          0          0  CQTDF  \n",
       "5486309          0          0          0          0  RDAYQ  "
      ]
     },
     "execution_count": 4,
     "metadata": {},
     "output_type": "execute_result"
    }
   ],
   "source": [
    "ngrams_df.sample(5)"
   ]
  },
  {
   "cell_type": "code",
   "execution_count": 5,
   "metadata": {},
   "outputs": [
    {
     "data": {
      "text/html": [
       "<div>\n",
       "<style scoped>\n",
       "    .dataframe tbody tr th:only-of-type {\n",
       "        vertical-align: middle;\n",
       "    }\n",
       "\n",
       "    .dataframe tbody tr th {\n",
       "        vertical-align: top;\n",
       "    }\n",
       "\n",
       "    .dataframe thead th {\n",
       "        text-align: right;\n",
       "    }\n",
       "</style>\n",
       "<table border=\"1\" class=\"dataframe\">\n",
       "  <thead>\n",
       "    <tr style=\"text-align: right;\">\n",
       "      <th></th>\n",
       "      <th>protein</th>\n",
       "      <th>gram_total</th>\n",
       "    </tr>\n",
       "  </thead>\n",
       "  <tbody>\n",
       "    <tr>\n",
       "      <th>4374</th>\n",
       "      <td>DCC_HUMAN</td>\n",
       "      <td>1443</td>\n",
       "    </tr>\n",
       "    <tr>\n",
       "      <th>8994</th>\n",
       "      <td>KPTN_HUMAN</td>\n",
       "      <td>432</td>\n",
       "    </tr>\n",
       "    <tr>\n",
       "      <th>3866</th>\n",
       "      <td>CRIS3_HUMAN</td>\n",
       "      <td>241</td>\n",
       "    </tr>\n",
       "    <tr>\n",
       "      <th>12931</th>\n",
       "      <td>PGAM4_HUMAN</td>\n",
       "      <td>250</td>\n",
       "    </tr>\n",
       "    <tr>\n",
       "      <th>2269</th>\n",
       "      <td>CBPA1_HUMAN</td>\n",
       "      <td>416</td>\n",
       "    </tr>\n",
       "  </tbody>\n",
       "</table>\n",
       "</div>"
      ],
      "text/plain": [
       "           protein  gram_total\n",
       "4374     DCC_HUMAN        1443\n",
       "8994    KPTN_HUMAN         432\n",
       "3866   CRIS3_HUMAN         241\n",
       "12931  PGAM4_HUMAN         250\n",
       "2269   CBPA1_HUMAN         416"
      ]
     },
     "execution_count": 5,
     "metadata": {},
     "output_type": "execute_result"
    }
   ],
   "source": [
    "protein_gram_num.sample(5)"
   ]
  },
  {
   "cell_type": "code",
   "execution_count": 6,
   "metadata": {},
   "outputs": [],
   "source": [
    "def ngramFeatureArrayizer(protein, gram_num, seq):\n",
    "    \"\"\"Analyze the ngram sequence as a whole\"\"\"\n",
    "    feat_array = []\n",
    "    prot_total_grams = protein_gram_num[protein_gram_num['protein']==protein][\"gram_total\"].values[0]\n",
    "    gram_frac = round(gram_num / prot_total_grams, 3)\n",
    "    object_ = ProteinAnalysis(seq)\n",
    "    object_no_u = ProteinAnalysis(seq.replace(\"U\",\"C\"))\n",
    "    # Mol Weight\n",
    "    mol_weight = object_.molecular_weight()\n",
    "    # Aromaticiy\n",
    "    arom = object_.aromaticity()\n",
    "    # Instability index\n",
    "    try:\n",
    "        insta_in = object_.instability_index()\n",
    "    except:\n",
    "        insta_in = object_no_u.instability_index()\n",
    "    # No flexibility because the size has to be 9 amino acids at the very least\n",
    "    # Gravy\n",
    "    try:\n",
    "        gravy_ = object_.gravy()\n",
    "    except:\n",
    "        gravy_ = object_no_u.gravy()\n",
    "    # Isoelectric point\n",
    "    try:\n",
    "        iso_el = object_.isoelectric_point()\n",
    "    except:\n",
    "        iso_el = object_no_u.isoelectric_point()\n",
    "    # Helix percentage\n",
    "    sec_stru = object_.secondary_structure_fraction()\n",
    "    hel_perc = sec_stru[0]\n",
    "    # Turn Percentage\n",
    "    turn_perc = sec_stru[1]\n",
    "    # Sheet Percentage\n",
    "    sheet_perc = sec_stru[2]\n",
    "    # Reduced Cys Num\n",
    "    mol_extinc_coeff = object_.molar_extinction_coefficient()\n",
    "    red_cys = mol_extinc_coeff[0]\n",
    "    # Disulfide Bridge Num\n",
    "    oxi_cys = mol_extinc_coeff[1]\n",
    "    feat_array.extend([\n",
    "        gram_frac, mol_weight, arom, insta_in, gravy_, iso_el, hel_perc, \n",
    "        sheet_perc, turn_perc, red_cys, oxi_cys]\n",
    "    )\n",
    "    return feat_array"
   ]
  },
  {
   "cell_type": "code",
   "execution_count": 7,
   "metadata": {},
   "outputs": [],
   "source": [
    "ngram_feat_cols = [\n",
    "    \"gram_frac\",\"gram_mol_weight\",\"gram_arom\",\"gram_insta\",\n",
    "    \"gram_gravy\",\"gram_isoel\",\"gram_helix_perc\",\"gram_turn_perc\",\"gram_sheet_perc\",\n",
    "    \"gram_reduced_cys_num\",\"gram_disulfide_num\"]"
   ]
  },
  {
   "cell_type": "code",
   "execution_count": 10,
   "metadata": {},
   "outputs": [
    {
     "data": {
      "application/vnd.jupyter.widget-view+json": {
       "model_id": "831d110515f2472a826109285cf19695",
       "version_major": 2,
       "version_minor": 0
      },
      "text/plain": [
       "HBox(children=(IntProgress(value=0, max=10), HTML(value='')))"
      ]
     },
     "metadata": {},
     "output_type": "display_data"
    }
   ],
   "source": [
    "# Find which chunk_size is the fastest\n",
    "measured_times = []\n",
    "for test_chunk in tqdm_notebook([100, 500, 1000, 1500, 2000, 4000, 8000, 10000, 15000, 20000]):\n",
    "    start_time = time.time()\n",
    "    \n",
    "    start = 0\n",
    "    end = test_chunk\n",
    "    \n",
    "    ngram_slice = ngrams_df.loc[start:end,:]\n",
    "    \n",
    "    ngram_slice_vals = ngram_slice.apply(\n",
    "        lambda row: ngramFeatureArrayizer(\n",
    "            row['protein'],\n",
    "            row['gram_num'],\n",
    "            row['seq'], \n",
    "        ), axis=1).values.tolist()\n",
    "    \n",
    "    ngram_slice_df = pd.DataFrame(ngram_slice_vals, index=range(start,end+1), columns=ngram_feat_cols)\n",
    "    \n",
    "    ngram_feat_full_df = pd.concat(\n",
    "        [ngram_slice[[\"protein\",\"gram_num\"]], ngram_slice_df],\n",
    "        axis=1\n",
    "    )\n",
    "    \n",
    "    spent_time = time.time() - start_time\n",
    "    \n",
    "    measured_times.append([test_chunk, spent_time])"
   ]
  },
  {
   "cell_type": "code",
   "execution_count": 11,
   "metadata": {},
   "outputs": [
    {
     "data": {
      "text/plain": [
       "<matplotlib.axes._subplots.AxesSubplot at 0x270c1be9a90>"
      ]
     },
     "execution_count": 11,
     "metadata": {},
     "output_type": "execute_result"
    },
    {
     "data": {
      "image/png": "[encoded data removed]",
      "text/plain": [
       "<Figure size 432x288 with 1 Axes>"
      ]
     },
     "metadata": {
      "needs_background": "light"
     },
     "output_type": "display_data"
    }
   ],
   "source": [
    "time_df = pd.DataFrame(measured_times, columns=['chunk_size','time_spent'])\n",
    "time_df.loc[:,'iterations_needed'] = ngrams_df.shape[0] / time_df['chunk_size']\n",
    "time_df.loc[:,'time_to_completion'] = (time_df['iterations_needed'] * time_df['time_spent']) / 60 / 60\n",
    "time_df.sort_values('time_to_completion',inplace=True, ascending=False)\n",
    "time_df.plot(kind='bar', x=\"chunk_size\", y=\"time_to_completion\")"
   ]
  },
  {
   "cell_type": "code",
   "execution_count": 8,
   "metadata": {},
   "outputs": [
    {
     "name": "stdout",
     "output_type": "stream",
     "text": [
      "[[0, 10000], [10000, 20000], [20000, 30000], [30000, 40000], [40000, 50000]] ... [[11270000, 11280000], [11280000, 11290000], [11290000, 11300000], [11300000, 11310000], [11310000, None]]\n"
     ]
    }
   ],
   "source": [
    "# Lets chunk this\n",
    "chunk_size = 10000\n",
    "chunk_list = list(range(0, ngrams_df.shape[0],chunk_size))\n",
    "chunk_pairs = [[chunk_list[i-1], chunk_list[i]] for i, x in enumerate(chunk_list) if i != 0]\n",
    "chunk_pairs.append([chunk_pairs[-1][-1], None])\n",
    "print(chunk_pairs[:5],\"...\",chunk_pairs[-5:])"
   ]
  },
  {
   "cell_type": "code",
   "execution_count": 9,
   "metadata": {},
   "outputs": [
    {
     "name": "stdout",
     "output_type": "stream",
     "text": [
      "True\n"
     ]
    },
    {
     "data": {
      "text/plain": [
       "True"
      ]
     },
     "execution_count": 9,
     "metadata": {},
     "output_type": "execute_result"
    }
   ],
   "source": [
    "# sanity check chunks\n",
    "chunk_0_check = ngrams_df.iloc[chunk_pairs[0][0]:chunk_pairs[0][1],:].shape[0]\n",
    "chunk_1_check = ngrams_df.iloc[chunk_pairs[-1][0]:,:]\n",
    "\n",
    "print(ngrams_df.index.values[-1]==chunk_1_check.index.values[-1])\n",
    "chunk_0_check > chunk_1_check.shape[0]"
   ]
  },
  {
   "cell_type": "code",
   "execution_count": 10,
   "metadata": {},
   "outputs": [
    {
     "name": "stdout",
     "output_type": "stream",
     "text": [
      "['protein_keywords', 'protein_ngram', 'protein_subloc', 'protein_tissue_exp_keywords', 'train', 'amyloid', 'train_scaled', 'protein_seq_features', 'train_final', 'protein_ngram_features', 'protein_ngram_features_mult']\n"
     ]
    }
   ],
   "source": [
    "conn = sqlite3.connect(\"protein_training.db\")\n",
    "\n",
    "c = conn.cursor()\n",
    "\n",
    "tables = [x[1] for x in c.execute(\"SELECT * from sqlite_master WHERE type='table';\")]\n",
    "print(tables)\n",
    "\n",
    "if 'protein_ngram_features_mult' not in tables:\n",
    "    c.execute(\n",
    "        \"CREATE TABLE protein_ngram_features_mult \\\n",
    "            (protein text, gram_num int, gram_frac int, gram_mol_weight int, gram_arom int, gram_insta int, \\\n",
    "            gram_gravy int, gram_isoel int, gram_helix_perc int, gram_turn_perc int, gram_sheet_perc int, \\\n",
    "            gram_reduced_cys_num int, gram_disulfide_num int)\"\n",
    "        )\n",
    "\n",
    "conn.close()"
   ]
  },
  {
   "cell_type": "code",
   "execution_count": null,
   "metadata": {},
   "outputs": [
    {
     "data": {
      "application/vnd.jupyter.widget-view+json": {
       "model_id": "8798c7b21b8846949a9f0db239d26aab",
       "version_major": 2,
       "version_minor": 0
      },
      "text/plain": [
       "HBox(children=(IntProgress(value=0, max=5), HTML(value='')))"
      ]
     },
     "metadata": {},
     "output_type": "display_data"
    }
   ],
   "source": [
    "conn = sqlite3.connect(\"protein_training.db\")\n",
    "\n",
    "def get_ngram_feats(chunk_pair):\n",
    "    start = chunk_pair[0]\n",
    "    end = shunk_pair[1]\n",
    "    \n",
    "    if end != None:\n",
    "        ngram_slice = ngrams_df.iloc[start:end, :]\n",
    "    else:\n",
    "        ngram_slice = ngrams_df.iloc[start:, :]\n",
    "        \n",
    "    slice_len = ngram_slice.shape[0]\n",
    "        \n",
    "    ngram_slice_vals = ngram_slice.apply(\n",
    "        lambda row: ngramFeatureArrayizer(\n",
    "            row['protein'],\n",
    "            row['gram_num'],\n",
    "            row['seq'], \n",
    "        ), axis=1).values.tolist()\n",
    "    \n",
    "    ngram_slice_df = pd.DataFrame(ngram_slice_vals, index=ngram_slice.index, columns=ngram_feat_cols)\n",
    "    \n",
    "    ngram_feat_full_df = pd.concat(\n",
    "        [ngram_slice[[\"protein\",\"gram_num\"]], ngram_slice_df],\n",
    "        axis=1\n",
    "    )\n",
    "    \n",
    "    return ngram_feat_full_df\n",
    "\n",
    "def write_to_dbase(chunk_pair):\n",
    "    feat_df = get_ngram_feats(chunk_pair)\n",
    "    feat_df.to_sql(\"protein_ngram_features_mult\", index=False, con=conn, if_exists=\"append\")\n",
    "    \n",
    "    #input = a_tuple[1]\n",
    "    #output = input + 1\n",
    "    #c.execute('INSERT INTO table_1 (id, output)' 'VALUES (?,?)', (index,output))\n",
    "\n",
    "if __name__ == \"__main__\":\n",
    "    chunks_to_run = chunk_pairs[:5]\n",
    "    p = Pool(processes = 7)\n",
    "    for _ in tqdm_notebook(p.imap_unordered(write_to_dbase, chunks_to_run), total=len(chunks_to_run)):\n",
    "        pass\n",
    "    p.close()\n",
    "    p.join()"
   ]
  },
  {
   "cell_type": "code",
   "execution_count": null,
   "metadata": {},
   "outputs": [
    {
     "data": {
      "application/vnd.jupyter.widget-view+json": {
       "model_id": "227b931d1203471c9576b5f443fff120",
       "version_major": 2,
       "version_minor": 0
      },
      "text/plain": [
       "HBox(children=(IntProgress(value=0, max=1132), HTML(value='')))"
      ]
     },
     "metadata": {},
     "output_type": "display_data"
    }
   ],
   "source": [
    "conn = sqlite3.connect(\"protein_training.db\")\n",
    "\n",
    "for chunk in tqdm_notebook(chunk_pairs):\n",
    "    \n",
    "    start = chunk[0]\n",
    "    end = chunk[1]\n",
    "    \n",
    "    if end != None:\n",
    "        ngram_slice = ngrams_df.iloc[start:end, :]\n",
    "    else:\n",
    "        ngram_slice = ngrams_df.iloc[start:, :]\n",
    "        \n",
    "    slice_len = ngram_slice.shape[0]\n",
    "        \n",
    "    ngram_slice_vals = ngram_slice.apply(\n",
    "        lambda row: ngramFeatureArrayizer(\n",
    "            row['protein'],\n",
    "            row['gram_num'],\n",
    "            row['seq'], \n",
    "        ), axis=1).values.tolist()\n",
    "    \n",
    "    ngram_slice_df = pd.DataFrame(ngram_slice_vals, index=ngram_slice.index, columns=ngram_feat_cols)\n",
    "    \n",
    "    ngram_feat_full_df = pd.concat(\n",
    "        [ngram_slice[[\"protein\",\"gram_num\"]], ngram_slice_df],\n",
    "        axis=1\n",
    "    )\n",
    "        \n",
    "    ngram_feat_full_df.to_sql('protein_ngram_features', con=conn, index=False, if_exists='append')\n",
    "            \n",
    "conn.close()"
   ]
  },
  {
   "cell_type": "markdown",
   "metadata": {},
   "source": [
    "Now that we've got the ngram sequence analyzed and recorded as a whole, lets look into the amino acids and put some features in based around those."
   ]
  },
  {
   "cell_type": "code",
   "execution_count": 13,
   "metadata": {},
   "outputs": [],
   "source": [
    "conn.close()"
   ]
  },
  {
   "cell_type": "code",
   "execution_count": 22,
   "metadata": {},
   "outputs": [
    {
     "data": {
      "text/plain": [
       "range(11310000, 11319554)"
      ]
     },
     "execution_count": 22,
     "metadata": {},
     "output_type": "execute_result"
    }
   ],
   "source": [
    "range(start, end-1)"
   ]
  },
  {
   "cell_type": "code",
   "execution_count": 23,
   "metadata": {},
   "outputs": [
    {
     "data": {
      "text/plain": [
       "False"
      ]
     },
     "execution_count": 23,
     "metadata": {},
     "output_type": "execute_result"
    }
   ],
   "source": [
    "# Sanity check\n",
    "conn = sqlite3.connect(\"protein_training.db\")\n",
    "\n",
    "c = conn.cursor()\n",
    "\n",
    "ngram_n = [x[0] for x in c.execute(\"SELECT COUNT(*) FROM protein_ngram\")][0]\n",
    "ngram_feat_n = [x[0] for x in c.execute(\"SELECT COUNT(*) FROM protein_ngram_features\")][0]\n",
    "\n",
    "conn.close()\n",
    "\n",
    "ngram_n == ngram_feat_n"
   ]
  },
  {
   "cell_type": "code",
   "execution_count": 30,
   "metadata": {},
   "outputs": [
    {
     "data": {
      "text/plain": [
       "(11319554, 11320685)"
      ]
     },
     "execution_count": 30,
     "metadata": {},
     "output_type": "execute_result"
    }
   ],
   "source": [
    "ngram_n, ngram_feat_n"
   ]
  },
  {
   "cell_type": "code",
   "execution_count": 36,
   "metadata": {},
   "outputs": [
    {
     "data": {
      "text/plain": [
       "1131"
      ]
     },
     "execution_count": 36,
     "metadata": {},
     "output_type": "execute_result"
    }
   ],
   "source": [
    "ngram_feat_n - ngram_n"
   ]
  },
  {
   "cell_type": "code",
   "execution_count": 84,
   "metadata": {},
   "outputs": [],
   "source": [
    "# Get protein and gram nums for each\n",
    "# Sanity check\n",
    "conn = sqlite3.connect(\"protein_training.db\")\n",
    "\n",
    "ngram_feats = pd.read_sql(\"SELECT * FROM protein_ngram_features\", con=conn)\n",
    "\n",
    "conn.close()"
   ]
  },
  {
   "cell_type": "code",
   "execution_count": null,
   "metadata": {},
   "outputs": [],
   "source": [
    "11310000"
   ]
  }
 ],
 "metadata": {
  "kernelspec": {
   "display_name": "Python 3",
   "language": "python",
   "name": "python3"
  },
  "language_info": {
   "codemirror_mode": {
    "name": "ipython",
    "version": 3
   },
   "file_extension": ".py",
   "mimetype": "text/x-python",
   "name": "python",
   "nbconvert_exporter": "python",
   "pygments_lexer": "ipython3",
   "version": "3.6.6"
  }
 },
 "nbformat": 4,
 "nbformat_minor": 2
}
