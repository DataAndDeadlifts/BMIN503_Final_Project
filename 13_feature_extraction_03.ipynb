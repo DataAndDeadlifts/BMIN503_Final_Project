{
 "cells": [
  {
   "cell_type": "markdown",
   "metadata": {},
   "source": [
    "# Swerve\n",
    "\n",
    "Building a model off of essentially the protein features didn't produce all that much that was interesting. Lets go back and engineer some more n-gram level features and bake those into a different prediction algorithm."
   ]
  },
  {
   "cell_type": "code",
   "execution_count": 1,
   "metadata": {},
   "outputs": [],
   "source": [
    "import sqlite3\n",
    "import pandas as pd\n",
    "import numpy as np\n",
    "from tqdm import tqdm_notebook\n",
    "from matplotlib import pyplot as plt\n",
    "import seaborn as sns\n",
    "import nltk\n",
    "import sklearn\n",
    "from Bio.SeqUtils.ProtParam import ProteinAnalysis\n",
    "import math"
   ]
  },
  {
   "cell_type": "code",
   "execution_count": 2,
   "metadata": {},
   "outputs": [],
   "source": [
    "conn = sqlite3.connect(\"protein_training.db\")\n",
    "ngrams_df = pd.read_sql('SELECT * from protein_ngram',con=conn)\n",
    "protein_gram_num = pd.read_sql(\"SELECT DISTINCT protein, COUNT(gram_num) as gram_total FROM protein_ngram GROUP BY protein\", con=conn)\n",
    "conn.close()\n",
    "ngrams_df.drop(\"accession\",axis=1,inplace=True)"
   ]
  },
  {
   "cell_type": "code",
   "execution_count": 3,
   "metadata": {},
   "outputs": [],
   "source": [
    "# Add full n-gram sequence to ngram df\n",
    "ngrams_df.loc[:,'seq'] = ngrams_df['gram_1'] + ngrams_df['gram_2'] + ngrams_df['gram_3'] + ngrams_df['gram_4'] + ngrams_df['gram_5']"
   ]
  },
  {
   "cell_type": "code",
   "execution_count": 4,
   "metadata": {},
   "outputs": [
    {
     "data": {
      "text/html": [
       "<div>\n",
       "<style scoped>\n",
       "    .dataframe tbody tr th:only-of-type {\n",
       "        vertical-align: middle;\n",
       "    }\n",
       "\n",
       "    .dataframe tbody tr th {\n",
       "        vertical-align: top;\n",
       "    }\n",
       "\n",
       "    .dataframe thead th {\n",
       "        text-align: right;\n",
       "    }\n",
       "</style>\n",
       "<table border=\"1\" class=\"dataframe\">\n",
       "  <thead>\n",
       "    <tr style=\"text-align: right;\">\n",
       "      <th></th>\n",
       "      <th>protein</th>\n",
       "      <th>gram_num</th>\n",
       "      <th>gram_1</th>\n",
       "      <th>gram_2</th>\n",
       "      <th>gram_3</th>\n",
       "      <th>gram_4</th>\n",
       "      <th>gram_5</th>\n",
       "      <th>amyloid_1</th>\n",
       "      <th>amyloid_2</th>\n",
       "      <th>amyloid_3</th>\n",
       "      <th>amyloid_4</th>\n",
       "      <th>amyloid_5</th>\n",
       "      <th>seq</th>\n",
       "    </tr>\n",
       "  </thead>\n",
       "  <tbody>\n",
       "    <tr>\n",
       "      <th>8386027</th>\n",
       "      <td>ZC3HD_HUMAN</td>\n",
       "      <td>12</td>\n",
       "      <td>N</td>\n",
       "      <td>T</td>\n",
       "      <td>K</td>\n",
       "      <td>T</td>\n",
       "      <td>I</td>\n",
       "      <td>0</td>\n",
       "      <td>0</td>\n",
       "      <td>0</td>\n",
       "      <td>0</td>\n",
       "      <td>0</td>\n",
       "      <td>NTKTI</td>\n",
       "    </tr>\n",
       "    <tr>\n",
       "      <th>1738395</th>\n",
       "      <td>ATS13_HUMAN</td>\n",
       "      <td>1421</td>\n",
       "      <td>W</td>\n",
       "      <td>K</td>\n",
       "      <td>G</td>\n",
       "      <td>K</td>\n",
       "      <td>E</td>\n",
       "      <td>0</td>\n",
       "      <td>0</td>\n",
       "      <td>0</td>\n",
       "      <td>0</td>\n",
       "      <td>0</td>\n",
       "      <td>WKGKE</td>\n",
       "    </tr>\n",
       "    <tr>\n",
       "      <th>2574371</th>\n",
       "      <td>CE192_HUMAN</td>\n",
       "      <td>1361</td>\n",
       "      <td>W</td>\n",
       "      <td>D</td>\n",
       "      <td>S</td>\n",
       "      <td>G</td>\n",
       "      <td>V</td>\n",
       "      <td>0</td>\n",
       "      <td>0</td>\n",
       "      <td>0</td>\n",
       "      <td>0</td>\n",
       "      <td>0</td>\n",
       "      <td>WDSGV</td>\n",
       "    </tr>\n",
       "    <tr>\n",
       "      <th>6099764</th>\n",
       "      <td>F184B_HUMAN</td>\n",
       "      <td>285</td>\n",
       "      <td>D</td>\n",
       "      <td>L</td>\n",
       "      <td>K</td>\n",
       "      <td>K</td>\n",
       "      <td>Y</td>\n",
       "      <td>0</td>\n",
       "      <td>0</td>\n",
       "      <td>0</td>\n",
       "      <td>0</td>\n",
       "      <td>0</td>\n",
       "      <td>DLKKY</td>\n",
       "    </tr>\n",
       "    <tr>\n",
       "      <th>957929</th>\n",
       "      <td>SCND3_HUMAN</td>\n",
       "      <td>191</td>\n",
       "      <td>S</td>\n",
       "      <td>F</td>\n",
       "      <td>L</td>\n",
       "      <td>W</td>\n",
       "      <td>F</td>\n",
       "      <td>0</td>\n",
       "      <td>0</td>\n",
       "      <td>0</td>\n",
       "      <td>0</td>\n",
       "      <td>0</td>\n",
       "      <td>SFLWF</td>\n",
       "    </tr>\n",
       "  </tbody>\n",
       "</table>\n",
       "</div>"
      ],
      "text/plain": [
       "             protein  gram_num gram_1 gram_2 gram_3 gram_4 gram_5  amyloid_1  \\\n",
       "8386027  ZC3HD_HUMAN        12      N      T      K      T      I          0   \n",
       "1738395  ATS13_HUMAN      1421      W      K      G      K      E          0   \n",
       "2574371  CE192_HUMAN      1361      W      D      S      G      V          0   \n",
       "6099764  F184B_HUMAN       285      D      L      K      K      Y          0   \n",
       "957929   SCND3_HUMAN       191      S      F      L      W      F          0   \n",
       "\n",
       "         amyloid_2  amyloid_3  amyloid_4  amyloid_5    seq  \n",
       "8386027          0          0          0          0  NTKTI  \n",
       "1738395          0          0          0          0  WKGKE  \n",
       "2574371          0          0          0          0  WDSGV  \n",
       "6099764          0          0          0          0  DLKKY  \n",
       "957929           0          0          0          0  SFLWF  "
      ]
     },
     "execution_count": 4,
     "metadata": {},
     "output_type": "execute_result"
    }
   ],
   "source": [
    "ngrams_df.sample(5)"
   ]
  },
  {
   "cell_type": "code",
   "execution_count": 5,
   "metadata": {},
   "outputs": [
    {
     "data": {
      "text/html": [
       "<div>\n",
       "<style scoped>\n",
       "    .dataframe tbody tr th:only-of-type {\n",
       "        vertical-align: middle;\n",
       "    }\n",
       "\n",
       "    .dataframe tbody tr th {\n",
       "        vertical-align: top;\n",
       "    }\n",
       "\n",
       "    .dataframe thead th {\n",
       "        text-align: right;\n",
       "    }\n",
       "</style>\n",
       "<table border=\"1\" class=\"dataframe\">\n",
       "  <thead>\n",
       "    <tr style=\"text-align: right;\">\n",
       "      <th></th>\n",
       "      <th>protein</th>\n",
       "      <th>gram_total</th>\n",
       "    </tr>\n",
       "  </thead>\n",
       "  <tbody>\n",
       "    <tr>\n",
       "      <th>547</th>\n",
       "      <td>AGAL_HUMAN</td>\n",
       "      <td>425</td>\n",
       "    </tr>\n",
       "    <tr>\n",
       "      <th>1321</th>\n",
       "      <td>AT5G3_HUMAN</td>\n",
       "      <td>138</td>\n",
       "    </tr>\n",
       "    <tr>\n",
       "      <th>20330</th>\n",
       "      <td>ZNF16_HUMAN</td>\n",
       "      <td>678</td>\n",
       "    </tr>\n",
       "    <tr>\n",
       "      <th>14943</th>\n",
       "      <td>RPF1_HUMAN</td>\n",
       "      <td>345</td>\n",
       "    </tr>\n",
       "    <tr>\n",
       "      <th>14611</th>\n",
       "      <td>RIOK1_HUMAN</td>\n",
       "      <td>564</td>\n",
       "    </tr>\n",
       "  </tbody>\n",
       "</table>\n",
       "</div>"
      ],
      "text/plain": [
       "           protein  gram_total\n",
       "547     AGAL_HUMAN         425\n",
       "1321   AT5G3_HUMAN         138\n",
       "20330  ZNF16_HUMAN         678\n",
       "14943   RPF1_HUMAN         345\n",
       "14611  RIOK1_HUMAN         564"
      ]
     },
     "execution_count": 5,
     "metadata": {},
     "output_type": "execute_result"
    }
   ],
   "source": [
    "protein_gram_num.sample(5)"
   ]
  },
  {
   "cell_type": "code",
   "execution_count": 6,
   "metadata": {},
   "outputs": [],
   "source": [
    "def ngramFeatureArrayizer(protein, gram_num, seq):\n",
    "    \"\"\"Analyze the ngram sequence as a whole\"\"\"\n",
    "    feat_array = []\n",
    "    prot_total_grams = protein_gram_num[protein_gram_num['protein']==protein][\"gram_total\"].values[0]\n",
    "    gram_frac = round(gram_num / prot_total_grams, 3)\n",
    "    object_ = ProteinAnalysis(seq)\n",
    "    object_no_u = ProteinAnalysis(seq.replace(\"U\",\"C\"))\n",
    "    # Mol Weight\n",
    "    mol_weight = object_.molecular_weight()\n",
    "    # Aromaticiy\n",
    "    arom = object_.aromaticity()\n",
    "    # Instability index\n",
    "    try:\n",
    "        insta_in = object_.instability_index()\n",
    "    except:\n",
    "        insta_in = object_no_u.instability_index()\n",
    "    # No flexibility because the size has to be 9 amino acids at the very least\n",
    "    # Gravy\n",
    "    try:\n",
    "        gravy_ = object_.gravy()\n",
    "    except:\n",
    "        gravy_ = object_no_u.gravy()\n",
    "    # Isoelectric point\n",
    "    try:\n",
    "        iso_el = object_.isoelectric_point()\n",
    "    except:\n",
    "        iso_el = object_no_u.isoelectric_point()\n",
    "    # Helix percentage\n",
    "    sec_stru = object_.secondary_structure_fraction()\n",
    "    hel_perc = sec_stru[0]\n",
    "    # Turn Percentage\n",
    "    turn_perc = sec_stru[1]\n",
    "    # Sheet Percentage\n",
    "    sheet_perc = sec_stru[2]\n",
    "    # Reduced Cys Num\n",
    "    mol_extinc_coeff = object_.molar_extinction_coefficient()\n",
    "    red_cys = mol_extinc_coeff[0]\n",
    "    # Disulfide Bridge Num\n",
    "    oxi_cys = mol_extinc_coeff[1]\n",
    "    feat_array.extend([\n",
    "        gram_frac, mol_weight, arom, insta_in, gravy_, iso_el, hel_perc, \n",
    "        sheet_perc, turn_perc, red_cys, oxi_cys]\n",
    "    )\n",
    "    return feat_array"
   ]
  },
  {
   "cell_type": "code",
   "execution_count": 7,
   "metadata": {},
   "outputs": [],
   "source": [
    "ngram_feat_cols = [\n",
    "    \"gram_frac\",\"gram_mol_weight\",\"gram_arom\",\"gram_insta\",\n",
    "    \"gram_gravy\",\"gram_isoel\",\"gram_helix_perc\",\"gram_turn_perc\",\"gram_sheet_perc\",\n",
    "    \"gram_reduced_cys_num\",\"gram_disulfide_num\"]"
   ]
  },
  {
   "cell_type": "code",
   "execution_count": 18,
   "metadata": {},
   "outputs": [
    {
     "name": "stdout",
     "output_type": "stream",
     "text": [
      "[[0, 10000], [10000, 20000], [20000, 30000], [30000, 40000], [40000, 50000]] ... [[11270000, 11280000], [11280000, 11290000], [11290000, 11300000], [11300000, 11310000], [11310001, 11319553]]\n"
     ]
    }
   ],
   "source": [
    "# Lets chunk this\n",
    "chunk_size = 10000\n",
    "chunk_list = list(range(0, ngrams_df.shape[0],chunk_size))\n",
    "chunk_pairs = [[chunk_list[i-1], chunk_list[i]] for i, x in enumerate(chunk_list) if i != 0]\n",
    "chunk_pairs.append([chunk_pairs[-1][-1]+1, ngrams_df.shape[0]-1])\n",
    "print(chunk_pairs[:5],\"...\",chunk_pairs[-5:])"
   ]
  },
  {
   "cell_type": "code",
   "execution_count": 22,
   "metadata": {},
   "outputs": [
    {
     "data": {
      "application/vnd.jupyter.widget-view+json": {
       "model_id": "3ee3e83f999446c5a14c35fc60206d91",
       "version_major": 2,
       "version_minor": 0
      },
      "text/plain": [
       "HBox(children=(IntProgress(value=0, max=1132), HTML(value='')))"
      ]
     },
     "metadata": {},
     "output_type": "display_data"
    }
   ],
   "source": [
    "conn = sqlite3.connect(\"protein_training.db\")\n",
    "\n",
    "for i in tqdm_notebook(chunk_pairs):\n",
    "    \n",
    "    start = i[0]\n",
    "    end = i[1]\n",
    "    \n",
    "    ngram_slice = ngrams_df.loc[start:end,:]\n",
    "    \n",
    "    ngram_slice_vals = ngram_slice.apply(\n",
    "        lambda row: ngramFeatureArrayizer(\n",
    "            row['protein'], \n",
    "            row['gram_num'],\n",
    "            row['seq'], \n",
    "        ), axis=1).values.tolist()\n",
    "    \n",
    "    ngram_slice_df = pd.DataFrame(ngram_slice_vals, columns=ngram_feat_cols)\n",
    "    \n",
    "    ngram_feat_full_df = pd.concat([ngram_slice[[\"protein\",\"gram_num\"]], ngram_slice_df], axis=1)\n",
    "\n",
    "    if start == 0:\n",
    "        ngram_slice.to_sql('protein_ngram_features', con=conn, index=False, if_exists='replace')\n",
    "    else:\n",
    "        ngram_slice.to_sql('protein_ngram_features', con=conn, index=False, if_exists='append')\n",
    "        \n",
    "conn.close()\n",
    "\n",
    "#ngram_feat_array = ngrams_df.apply(lambda row: ngramFeatureArrayizer(row['protein'], row['gram_num'], row['seq']), axis=1)"
   ]
  },
  {
   "cell_type": "markdown",
   "metadata": {},
   "source": [
    "Now that we've got the ngram sequence analyzed and recorded as a whole, lets look into the amino acids and put some features in based around those."
   ]
  },
  {
   "cell_type": "code",
   "execution_count": null,
   "metadata": {},
   "outputs": [],
   "source": []
  }
 ],
 "metadata": {
  "kernelspec": {
   "display_name": "Python 3",
   "language": "python",
   "name": "python3"
  },
  "language_info": {
   "codemirror_mode": {
    "name": "ipython",
    "version": 3
   },
   "file_extension": ".py",
   "mimetype": "text/x-python",
   "name": "python",
   "nbconvert_exporter": "python",
   "pygments_lexer": "ipython3",
   "version": "3.6.6"
  }
 },
 "nbformat": 4,
 "nbformat_minor": 2
}
