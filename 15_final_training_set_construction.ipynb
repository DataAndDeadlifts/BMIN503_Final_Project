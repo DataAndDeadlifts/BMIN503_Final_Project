{
 "cells": [
  {
   "cell_type": "code",
   "execution_count": 1,
   "metadata": {},
   "outputs": [],
   "source": [
    "import sqlite3\n",
    "import pandas as pd\n",
    "from tqdm import tqdm_notebook\n",
    "from functools import reduce\n",
    "import time"
   ]
  },
  {
   "cell_type": "code",
   "execution_count": 3,
   "metadata": {},
   "outputs": [
    {
     "ename": "DatabaseError",
     "evalue": "malformed database schema (protein_subngram_features) - table \"protein_subngram_features\" already exists",
     "output_type": "error",
     "traceback": [
      "\u001b[1;31m---------------------------------------------------------------------------\u001b[0m",
      "\u001b[1;31mDatabaseError\u001b[0m                             Traceback (most recent call last)",
      "\u001b[1;32m<ipython-input-3-0182722c93aa>\u001b[0m in \u001b[0;36m<module>\u001b[1;34m\u001b[0m\n\u001b[0;32m      9\u001b[0m             \u001b[1;33m(\u001b[0m\u001b[0mSELECT\u001b[0m \u001b[0mCOUNT\u001b[0m\u001b[1;33m(\u001b[0m\u001b[1;33m*\u001b[0m\u001b[1;33m)\u001b[0m \u001b[1;32mas\u001b[0m \u001b[0mngram_count\u001b[0m \u001b[0mFROM\u001b[0m \u001b[0mprotein_ngram\u001b[0m\u001b[1;33m)\u001b[0m\u001b[1;33m,\u001b[0m\u001b[0;31m \u001b[0m\u001b[0;31m\\\u001b[0m\u001b[1;33m\u001b[0m\u001b[0m\n\u001b[0;32m     10\u001b[0m             \u001b[1;33m(\u001b[0m\u001b[0mSELECT\u001b[0m \u001b[0mCOUNT\u001b[0m\u001b[1;33m(\u001b[0m\u001b[1;33m*\u001b[0m\u001b[1;33m)\u001b[0m \u001b[1;32mas\u001b[0m \u001b[0mngram_feat_count\u001b[0m \u001b[0mFROM\u001b[0m \u001b[0mprotein_ngram_features\u001b[0m\u001b[1;33m)\u001b[0m\u001b[1;33m,\u001b[0m\u001b[0;31m \u001b[0m\u001b[0;31m\\\u001b[0m\u001b[1;33m\u001b[0m\u001b[0m\n\u001b[1;32m---> 11\u001b[1;33m             \u001b[1;33m(\u001b[0m\u001b[0mSELECT\u001b[0m \u001b[0mCOUNT\u001b[0m\u001b[1;33m(\u001b[0m\u001b[1;33m*\u001b[0m\u001b[1;33m)\u001b[0m \u001b[1;32mas\u001b[0m \u001b[0mngram_sub_feat_count\u001b[0m \u001b[0mFROM\u001b[0m \u001b[0mprotein_subngram_features\u001b[0m\u001b[1;33m)\u001b[0m\u001b[0;31m\"\u001b[0m\u001b[1;33m\u001b[0m\u001b[0m\n\u001b[0m\u001b[0;32m     12\u001b[0m )]\n\u001b[0;32m     13\u001b[0m \u001b[1;33m\u001b[0m\u001b[0m\n",
      "\u001b[1;31mDatabaseError\u001b[0m: malformed database schema (protein_subngram_features) - table \"protein_subngram_features\" already exists"
     ]
    }
   ],
   "source": [
    "# Sanity check\n",
    "conn = sqlite3.connect(\"protein_training.db\")\n",
    "\n",
    "c = conn.cursor()\n",
    "\n",
    "n_rows = [x for x in c.execute(\n",
    "    \"SELECT * \\\n",
    "        FROM \\\n",
    "            (SELECT COUNT(*) as ngram_count FROM protein_ngram), \\\n",
    "            (SELECT COUNT(*) as ngram_feat_count FROM protein_ngram_features), \\\n",
    "            (SELECT COUNT(*) as ngram_sub_feat_count FROM protein_subngram_features)\"\n",
    ")]\n",
    "\n",
    "conn.close()"
   ]
  },
  {
   "cell_type": "code",
   "execution_count": null,
   "metadata": {},
   "outputs": [],
   "source": [
    "ngram_count, ngram_feat_count, ngram_sub_feat_count = n_rows[0]\n",
    "ngram_count == ngram_feat_count == ngram_sub_feat_count"
   ]
  },
  {
   "cell_type": "code",
   "execution_count": 4,
   "metadata": {},
   "outputs": [
    {
     "name": "stdout",
     "output_type": "stream",
     "text": [
      "There are no proteins of unknown amyloid status:  True\n"
     ]
    }
   ],
   "source": [
    "conn = sqlite3.connect(\"protein_training.db\")\n",
    "\n",
    "proteins_df = pd.read_sql(\"SELECT DISTINCT protein FROM protein_ngram\", con=conn)\n",
    "ngram_prot_gramnum_df = pd.read_sql(\"SELECT protein, gram_num FROM protein_ngram\", con=conn)\n",
    "amy_df = pd.read_sql(\"SELECT DISTINCT protein FROM amyloid\", con=conn)\n",
    "\n",
    "conn.close()\n",
    "\n",
    "# Sanity check that all proteins are ones I plan on using\n",
    "print(\"There are no proteins of unknown amyloid status: \", proteins_df[proteins_df['protein'].isin(amy_df['protein'])==False].shape[0]==0)"
   ]
  },
  {
   "cell_type": "code",
   "execution_count": 5,
   "metadata": {},
   "outputs": [
    {
     "data": {
      "text/plain": [
       "True"
      ]
     },
     "execution_count": 5,
     "metadata": {},
     "output_type": "execute_result"
    }
   ],
   "source": [
    "# Make sure there are no duplicated proteins\n",
    "proteins_df[proteins_df.duplicated()].shape[0]==0"
   ]
  },
  {
   "cell_type": "code",
   "execution_count": 6,
   "metadata": {
    "scrolled": true
   },
   "outputs": [
    {
     "data": {
      "text/html": [
       "<div>\n",
       "<style scoped>\n",
       "    .dataframe tbody tr th:only-of-type {\n",
       "        vertical-align: middle;\n",
       "    }\n",
       "\n",
       "    .dataframe tbody tr th {\n",
       "        vertical-align: top;\n",
       "    }\n",
       "\n",
       "    .dataframe thead th {\n",
       "        text-align: right;\n",
       "    }\n",
       "</style>\n",
       "<table border=\"1\" class=\"dataframe\">\n",
       "  <thead>\n",
       "    <tr style=\"text-align: right;\">\n",
       "      <th></th>\n",
       "      <th>protein</th>\n",
       "      <th>gram_num</th>\n",
       "    </tr>\n",
       "  </thead>\n",
       "  <tbody>\n",
       "  </tbody>\n",
       "</table>\n",
       "</div>"
      ],
      "text/plain": [
       "Empty DataFrame\n",
       "Columns: [protein, gram_num]\n",
       "Index: []"
      ]
     },
     "execution_count": 6,
     "metadata": {},
     "output_type": "execute_result"
    }
   ],
   "source": [
    "ngram_prot_gramnum_df[ngram_prot_gramnum_df.duplicated()]"
   ]
  },
  {
   "cell_type": "code",
   "execution_count": 16,
   "metadata": {},
   "outputs": [],
   "source": [
    "# Function to join tables\n",
    "def train_chunker_one_query_test(protein_chunk):\n",
    "    conn = sqlite3.connect(\"protein_training.db\")\n",
    "    \n",
    "    prot_list = \"(\"+\", \".join([\"'\"+x+\"'\" for x in protein_chunk.protein.values.tolist()])+\")\"\n",
    "    \n",
    "    train_chunk = pd.read_sql(\n",
    "        \"SELECT * \\\n",
    "        FROM (SELECT \\\n",
    "            protein, gram_num, gram_1, gram_2, gram_3, gram_4, gram_5, \\\n",
    "            amyloid_1, amyloid_2, amyloid_3, amyloid_4, amyloid_5 \\\n",
    "            FROM protein_ngram WHERE protein IN \"+prot_list+\") a \\\n",
    "        LEFT JOIN (SELECT * FROM protein_ngram_features WHERE protein IN \"+prot_list+\") b \\\n",
    "            ON b.protein = a.protein AND b.gram_num = a.gram_num \\\n",
    "        LEFT JOIN (SELECT * FROM protein_subngram_features WHERE protein IN \"+prot_list+\") c \\\n",
    "            ON c.protein = a.protein AND c.gram_num = a.gram_num \\\n",
    "        LEFT JOIN (SELECT * FROM protein_seq_features WHERE protein IN \"+prot_list+\") d \\\n",
    "            ON d.protein = a.protein\",\n",
    "        con=conn\n",
    "    )\n",
    "    \n",
    "    conn.close()\n",
    "        \n",
    "    return train_chunk.shape[0]"
   ]
  },
  {
   "cell_type": "code",
   "execution_count": 17,
   "metadata": {},
   "outputs": [],
   "source": [
    "# Function to join tables\n",
    "def train_chunker_mult_query_test(protein_chunk):\n",
    "    conn = sqlite3.connect(\"protein_training.db\")\n",
    "    \n",
    "    prot_list = \"(\"+\", \".join([\"'\"+x+\"'\" for x in protein_chunk.protein.values.tolist()])+\")\"\n",
    "    \n",
    "    ngram_chunk = pd.read_sql(\n",
    "        \"SELECT protein, gram_num, gram_1, gram_2, gram_3, gram_4, gram_5, \\\n",
    "            amyloid_1, amyloid_2, amyloid_3, amyloid_4, amyloid_5 \\\n",
    "            FROM protein_ngram WHERE protein IN \"+prot_list,\n",
    "        con=conn\n",
    "    )\n",
    "    \n",
    "    ngram_feat_chunk = pd.read_sql(\n",
    "        \"SELECT * FROM protein_ngram_features WHERE protein IN \"+prot_list, \n",
    "        con=conn\n",
    "    )\n",
    "    \n",
    "    ngram_sub_feat_chunk = pd.read_sql(\n",
    "        \"SELECT * FROM protein_subngram_features WHERE protein IN \"+prot_list, \n",
    "        con=conn\n",
    "    )\n",
    "    \n",
    "    frames = [ngram_chunk, ngram_feat_chunk, ngram_sub_feat_chunk]\n",
    "    \n",
    "    train_chunk = reduce(\n",
    "        lambda left,right: pd.merge(\n",
    "            left,right,on=['protein','gram_num'],\n",
    "            how='left'\n",
    "        ),\n",
    "        frames\n",
    "    )\n",
    "    \n",
    "    protein_chunk = pd.read_sql(\n",
    "        \"SELECT * FROM protein_seq_features WHERE protein IN \"+prot_list,\n",
    "        con=conn\n",
    "    )\n",
    "    \n",
    "    conn.close()\n",
    "    \n",
    "    train_chunk = train_chunk.merge(protein_chunk, on=[\"protein\"], how=\"left\")\n",
    "    \n",
    "    return train_chunk.shape[0]"
   ]
  },
  {
   "cell_type": "code",
   "execution_count": 18,
   "metadata": {},
   "outputs": [
    {
     "data": {
      "application/vnd.jupyter.widget-view+json": {
       "model_id": "63937e86534d40ccb9321cacba0ffe27",
       "version_major": 2,
       "version_minor": 0
      },
      "text/plain": [
       "HBox(children=(IntProgress(value=0, max=10), HTML(value='')))"
      ]
     },
     "metadata": {},
     "output_type": "display_data"
    },
    {
     "name": "stdout",
     "output_type": "stream",
     "text": [
      "\n"
     ]
    }
   ],
   "source": [
    "# Which chunk size is ideal?\n",
    "test_chunks = []\n",
    "\n",
    "chunk_sizes = [10, 50, 100, 500, 1000, 2000, 3000, 4000, 5000, 6000]\n",
    "for chunk in chunk_sizes:\n",
    "    start = 0\n",
    "    end = chunk\n",
    "    \n",
    "    if end != None:\n",
    "        protein_chunk = proteins_df.iloc[start:end, :]\n",
    "    else:\n",
    "        protein_chunk = proteins_df.iloc[start:, :]\n",
    "        \n",
    "    test_chunks.append(protein_chunk)\n",
    "\n",
    "sanity_chunks_one = []\n",
    "sanity_chunks_mult = []\n",
    "\n",
    "measured_times_single = []\n",
    "measured_times_mult = []\n",
    "\n",
    "for chunk in tqdm_notebook(test_chunks):\n",
    "    \n",
    "    start_time = time.time()    \n",
    "    single_chunk = train_chunker_one_query_test(chunk)\n",
    "    spent_time = time.time() - start_time\n",
    "    measured_times_single.append(spent_time)\n",
    "\n",
    "    \n",
    "    start_time = time.time()\n",
    "    mult_chunk = train_chunker_mult_query_test(chunk)\n",
    "    spent_time = time.time() - start_time\n",
    "    measured_times_mult.append(spent_time)\n",
    "    \n",
    "    sanity_chunks_one.append(single_chunk)\n",
    "    sanity_chunks_mult.append(mult_chunk)"
   ]
  },
  {
   "cell_type": "code",
   "execution_count": 19,
   "metadata": {},
   "outputs": [
    {
     "data": {
      "text/plain": [
       "<matplotlib.axes._subplots.AxesSubplot at 0x1dc71431780>"
      ]
     },
     "execution_count": 19,
     "metadata": {},
     "output_type": "execute_result"
    },
    {
     "data": {
      "image/png": "[encoded data removed]",
      "text/plain": [
       "<Figure size 432x288 with 1 Axes>"
      ]
     },
     "metadata": {
      "needs_background": "light"
     },
     "output_type": "display_data"
    }
   ],
   "source": [
    "time_df = pd.DataFrame(\n",
    "    list(zip(chunk_sizes,measured_times_single,measured_times_mult)),\n",
    "    columns=['chunk_size','single_time_spent','mult_time_spent']\n",
    ")\n",
    "time_df.loc[:,'iterations_needed'] = ngram_count / time_df['chunk_size']\n",
    "time_df.loc[:,'time_to_completion_single'] = (time_df['iterations_needed'] * time_df['single_time_spent']) / 60 / 60\n",
    "time_df.loc[:,'time_to_completion_mult'] = (time_df['iterations_needed'] * time_df['mult_time_spent']) / 60 / 60\n",
    "time_df.sort_values(['time_to_completion_single','time_to_completion_mult'],inplace=True, ascending=False)\n",
    "time_df[time_df['time_to_completion_single']<1000].plot(kind='bar', x=\"chunk_size\", y=[\"time_to_completion_single\", \"time_to_completion_mult\"])\n"
   ]
  },
  {
   "cell_type": "code",
   "execution_count": 24,
   "metadata": {},
   "outputs": [
    {
     "data": {
      "text/plain": [
       "True"
      ]
     },
     "execution_count": 24,
     "metadata": {},
     "output_type": "execute_result"
    }
   ],
   "source": [
    "integrity = True\n",
    "for a, b in zip(sanity_chunks_one, sanity_chunks_mult):\n",
    "    if a != b:\n",
    "        integrity = False\n",
    "        \n",
    "integrity == True"
   ]
  },
  {
   "cell_type": "code",
   "execution_count": 25,
   "metadata": {},
   "outputs": [],
   "source": [
    "# Function to join tables\n",
    "def train_chunker_mult_query(protein_chunk):\n",
    "    conn = sqlite3.connect(\"protein_training.db\")\n",
    "    \n",
    "    prot_list = \"(\"+\", \".join([\"'\"+x+\"'\" for x in protein_chunk.protein.values.tolist()])+\")\"\n",
    "    \n",
    "    ngram_chunk = pd.read_sql(\n",
    "        \"SELECT protein, gram_num, gram_1, gram_2, gram_3, gram_4, gram_5, \\\n",
    "            amyloid_1, amyloid_2, amyloid_3, amyloid_4, amyloid_5 \\\n",
    "            FROM protein_ngram WHERE protein IN \"+prot_list,\n",
    "        con=conn\n",
    "    )\n",
    "    \n",
    "    ngram_feat_chunk = pd.read_sql(\n",
    "        \"SELECT * FROM protein_ngram_features WHERE protein IN \"+prot_list, \n",
    "        con=conn\n",
    "    )\n",
    "    \n",
    "    ngram_sub_feat_chunk = pd.read_sql(\n",
    "        \"SELECT * FROM protein_subngram_features WHERE protein IN \"+prot_list, \n",
    "        con=conn\n",
    "    )\n",
    "    \n",
    "    frames = [ngram_chunk, ngram_feat_chunk, ngram_sub_feat_chunk]\n",
    "    \n",
    "    train_chunk = reduce(\n",
    "        lambda left,right: pd.merge(\n",
    "            left,right,on=['protein','gram_num'],\n",
    "            how='left'\n",
    "        ),\n",
    "        frames\n",
    "    )\n",
    "    \n",
    "    protein_chunk = pd.read_sql(\n",
    "        \"SELECT * FROM protein_seq_features WHERE protein IN \"+prot_list,\n",
    "        con=conn\n",
    "    )\n",
    "    \n",
    "    conn.close()\n",
    "    \n",
    "    train_chunk = train_chunk.merge(protein_chunk, on=[\"protein\"], how=\"left\")\n",
    "    \n",
    "    return train_chunk"
   ]
  },
  {
   "cell_type": "code",
   "execution_count": 26,
   "metadata": {},
   "outputs": [
    {
     "name": "stdout",
     "output_type": "stream",
     "text": [
      "[[0, 5000], [5000, 10000], [10000, 15000], [15000, 20000], [20000, None]] ... [[0, 5000], [5000, 10000], [10000, 15000], [15000, 20000], [20000, None]]\n"
     ]
    }
   ],
   "source": [
    "# Lets chunk this by protein name\n",
    "chunk_size = 5000\n",
    "chunk_list = list(range(0, proteins_df.shape[0],chunk_size))\n",
    "chunk_pairs = [[chunk_list[i-1], chunk_list[i]] for i, x in enumerate(chunk_list) if i != 0]\n",
    "chunk_pairs.append([chunk_pairs[-1][-1], None])\n",
    "print(chunk_pairs[:5],\"...\",chunk_pairs[-5:])\n",
    "\n",
    "process_chunks = []\n",
    "\n",
    "for chunk in chunk_pairs:\n",
    "    start = chunk[0]\n",
    "    end = chunk[1]\n",
    "    \n",
    "    if end != None:\n",
    "        protein_chunk = proteins_df.iloc[start:end, :]\n",
    "    else:\n",
    "        protein_chunk = proteins_df.iloc[start:, :]\n",
    "        \n",
    "    process_chunks.append(protein_chunk)"
   ]
  },
  {
   "cell_type": "code",
   "execution_count": null,
   "metadata": {},
   "outputs": [],
   "source": [
    "# Remove train if it exists\n",
    "conn = sqlite3.connect(\"protein_training.db\")\n",
    "c = conn.cursor()\n",
    "c.execute(\"DROP TABLE IF EXISTS train_final\")\n",
    "conn.close()"
   ]
  },
  {
   "cell_type": "code",
   "execution_count": null,
   "metadata": {},
   "outputs": [],
   "source": [
    "# Process chunks\n",
    "for chunk in tqdm_notebook(process_chunks):\n",
    "    train_chunk = train_chunker_mult_query(chunk)\n",
    "    conn = sqlite3.connect(\"protein_training.db\")\n",
    "    train_chunk.to_sql(\"train_final\", con=conn, index=False, if_exists=\"append\")\n",
    "    conn.close()\n",
    "    \n",
    "# Takes 67 sec per iterant"
   ]
  },
  {
   "cell_type": "code",
   "execution_count": null,
   "metadata": {},
   "outputs": [],
   "source": []
  },
  {
   "cell_type": "code",
   "execution_count": null,
   "metadata": {},
   "outputs": [],
   "source": [
    "# Sanity check\n",
    "conn = sqlite3.connect(\"protein_training.db\")\n",
    "\n",
    "c = conn.cursor()\n",
    "\n",
    "nrow_protein_ngram = [x[0] for x in c.execute(\"SELECT COUNT(*) FROM protein_ngram\")][0]\n",
    "nrow_train = [x[0] for x in c.execute(\"SELECT COUNT(*) FROM train_final\")][0]\n",
    "\n",
    "conn.close()\n",
    "\n",
    "nrow_protein_ngram == nrow_train"
   ]
  },
  {
   "cell_type": "code",
   "execution_count": null,
   "metadata": {},
   "outputs": [],
   "source": [
    "nrow_protein_ngram"
   ]
  },
  {
   "cell_type": "code",
   "execution_count": null,
   "metadata": {},
   "outputs": [],
   "source": [
    "nrow_train"
   ]
  },
  {
   "cell_type": "code",
   "execution_count": null,
   "metadata": {},
   "outputs": [],
   "source": [
    "nrow_train - nrow_protein_ngram"
   ]
  },
  {
   "cell_type": "code",
   "execution_count": null,
   "metadata": {},
   "outputs": [],
   "source": [
    "# Find the duplicates\n",
    "# Sanity check\n",
    "conn = sqlite3.connect(\"protein_training.db\")\n",
    "\n",
    "train_prot_gram = pd.read_sql(\"SELECT protein, gram_num from train_final\", con=conn)\n",
    "\n",
    "conn.close()"
   ]
  },
  {
   "cell_type": "code",
   "execution_count": null,
   "metadata": {},
   "outputs": [],
   "source": [
    "train_dup = train_prot_gram[train_prot_gram.duplicated(keep=\"first\")]\n",
    "train_dup_ind = train_dup.index.values.tolist()\n",
    "print(len(train_dup_ind))"
   ]
  },
  {
   "cell_type": "code",
   "execution_count": null,
   "metadata": {},
   "outputs": [],
   "source": [
    "# Check for null values in all the columns\n",
    "\n",
    "conn = sqlite3.connect(\"protein_training.db\")\n",
    "\n",
    "c = conn.cursor()\n",
    "\n",
    "train_columns = [x[1] for x in c.execute(\"PRAGMA table_info(train_final)\")]\n",
    "\n",
    "conn.close()"
   ]
  },
  {
   "cell_type": "code",
   "execution_count": null,
   "metadata": {},
   "outputs": [],
   "source": [
    "conn = sqlite3.connect(\"protein_training.db\")\n",
    "\n",
    "c = conn.cursor()\n",
    "\n",
    "col_nulls = {}\n",
    "\n",
    "for col in tqdm_notebook(train_columns):\n",
    "    na_cells = [x[0] for x in c.execute(\n",
    "        \"SELECT COUNT(*) \\\n",
    "        FROM train_final \\\n",
    "            WHERE \"+col+\" IS NULL\"\n",
    "    )][0]\n",
    "    \n",
    "    col_nulls[col] = na_cells\n",
    "\n",
    "conn.close()"
   ]
  },
  {
   "cell_type": "code",
   "execution_count": null,
   "metadata": {},
   "outputs": [],
   "source": [
    "col_nulls"
   ]
  },
  {
   "cell_type": "code",
   "execution_count": null,
   "metadata": {},
   "outputs": [],
   "source": []
  }
 ],
 "metadata": {
  "kernelspec": {
   "display_name": "Python 3",
   "language": "python",
   "name": "python3"
  },
  "language_info": {
   "codemirror_mode": {
    "name": "ipython",
    "version": 3
   },
   "file_extension": ".py",
   "mimetype": "text/x-python",
   "name": "python",
   "nbconvert_exporter": "python",
   "pygments_lexer": "ipython3",
   "version": "3.6.6"
  }
 },
 "nbformat": 4,
 "nbformat_minor": 2
}
