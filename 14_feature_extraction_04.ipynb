{
 "cells": [
  {
   "cell_type": "markdown",
   "metadata": {},
   "source": [
    "# Amino acid characteristics\n",
    "\n",
    "Lets add some features for each fraction of the n-gram (amino acid).\n",
    "\n",
    "1. Class (aliphatic, basic, amide, acid, sulfur-containing, basic aromatic, cyclic, hydroxyl-containing)\n",
    "2. Side chain polarity\n",
    "3. Side chain charge\n",
    "4. Hydropathy index\n",
    "5. Molecular Weight"
   ]
  },
  {
   "cell_type": "code",
   "execution_count": 1,
   "metadata": {},
   "outputs": [],
   "source": [
    "import sqlite3\n",
    "import pandas as pd\n",
    "import numpy as np\n",
    "from tqdm import tqdm_notebook\n",
    "from matplotlib import pyplot as plt\n",
    "import seaborn as sns\n",
    "import nltk\n",
    "import sklearn\n",
    "from Bio.SeqUtils.ProtParam import ProteinAnalysis\n",
    "import math"
   ]
  },
  {
   "cell_type": "code",
   "execution_count": 2,
   "metadata": {},
   "outputs": [],
   "source": [
    "amino_acid_dict = {\n",
    "    \"A\":{\n",
    "        \"side_chain_class\":\"aliphatic\",\n",
    "        \"side_chain_polarity\":\"nonpolar\",\n",
    "        \"side_chain_charge\":\"neutral\",\n",
    "        \"hydropathy_index\":1.8,\n",
    "        \"molecular_weight\":89.094\n",
    "    },\n",
    "    \"R\":{\n",
    "        \"side_chain_class\":\"basic\",\n",
    "        \"side_chain_polarity\":\"basic polar\",\n",
    "        \"side_chain_charge\":\"positive\",\n",
    "        \"hydropathy_index\":-4.5,\n",
    "        \"molecular_weight\":174.203\n",
    "    },\n",
    "    \"N\":{\n",
    "        \"side_chain_class\":\"amide\",\n",
    "        \"side_chain_polarity\":\"polar\",\n",
    "        \"side_chain_charge\":\"neutral\",\n",
    "        \"hydropathy_index\":-3.5,\n",
    "        \"molecular_weight\":132.119\n",
    "    },\n",
    "    \"D\":{\n",
    "        \"side_chain_class\":\"acid\",\n",
    "        \"side_chain_polarity\":\"acidic polar\",\n",
    "        \"side_chain_charge\":\"negative\",\n",
    "        \"hydropathy_index\":-3.5,\n",
    "        \"molecular_weight\":133.104\n",
    "    },\n",
    "    \"C\":{\n",
    "        \"side_chain_class\":\"sulfur-containing\",\n",
    "        \"side_chain_polarity\":\"nonpolar\",\n",
    "        \"side_chain_charge\":\"neutral\",\n",
    "        \"hydropathy_index\":2.5,\n",
    "        \"molecular_weight\":121.154\n",
    "    },\n",
    "    \"E\":{\n",
    "        \"side_chain_class\":\"acid\",\n",
    "        \"side_chain_polarity\":\"nonpolar\",\n",
    "        \"side_chain_charge\":\"neutral\",\n",
    "        \"hydropathy_index\":-3.5,\n",
    "        \"molecular_weight\":147.131\n",
    "    },\n",
    "    \"Q\":{\n",
    "        \"side_chain_class\":\"amide\",\n",
    "        \"side_chain_polarity\":\"polar\",\n",
    "        \"side_chain_charge\":\"neutral\",\n",
    "        \"hydropathy_index\":-3.5,\n",
    "        \"molecular_weight\":146.146\n",
    "    },\n",
    "    \"G\":{\n",
    "        \"side_chain_class\":\"aliphatic\",\n",
    "        \"side_chain_polarity\":\"nonpolar\",\n",
    "        \"side_chain_charge\":\"neutral\",\n",
    "        \"hydropathy_index\":-0.4,\n",
    "        \"molecular_weight\":75.067\n",
    "    },\n",
    "    \"H\":{\n",
    "        \"side_chain_class\":\"basic aromatic\",\n",
    "        \"side_chain_polarity\":\"basic polar\",\n",
    "        \"side_chain_charge\":\"neutral\",\n",
    "        \"hydropathy_index\":-3.2,\n",
    "        \"molecular_weight\":155.156\n",
    "    },\n",
    "    \"I\":{\n",
    "        \"side_chain_class\":\"aliphatic\",\n",
    "        \"side_chain_polarity\":\"nonpolar\",\n",
    "        \"side_chain_charge\":\"neutral\",\n",
    "        \"hydropathy_index\":4.5,\n",
    "        \"molecular_weight\":131.175\n",
    "    },\n",
    "    \"L\":{\n",
    "        \"side_chain_class\":\"aliphatic\",\n",
    "        \"side_chain_polarity\":\"nonpolar\",\n",
    "        \"side_chain_charge\":\"neutral\",\n",
    "        \"hydropathy_index\":3.8,\n",
    "        \"molecular_weight\":131.175\n",
    "    },\n",
    "    \"K\":{\n",
    "        \"side_chain_class\":\"basic\",\n",
    "        \"side_chain_polarity\":\"basic polar\",\n",
    "        \"side_chain_charge\":\"positive\",\n",
    "        \"hydropathy_index\":-3.9,\n",
    "        \"molecular_weight\":146.189\n",
    "    },\n",
    "    \"M\":{\n",
    "        \"side_chain_class\":\"sulfur-containing\",\n",
    "        \"side_chain_polarity\":\"nonpolar\",\n",
    "        \"side_chain_charge\":\"neutral\",\n",
    "        \"hydropathy_index\":1.9,\n",
    "        \"molecular_weight\":149.208\n",
    "    },\n",
    "    \"F\":{\n",
    "        \"side_chain_class\":\"aromatic\",\n",
    "        \"side_chain_polarity\":\"nonpolar\",\n",
    "        \"side_chain_charge\":\"neutral\",\n",
    "        \"hydropathy_index\":2.8,\n",
    "        \"molecular_weight\":165.192\n",
    "    },\n",
    "    \"P\":{\n",
    "        \"side_chain_class\":\"cyclic\",\n",
    "        \"side_chain_polarity\":\"nonpolar\",\n",
    "        \"side_chain_charge\":\"neutral\",\n",
    "        \"hydropathy_index\":-1.6,\n",
    "        \"molecular_weight\":115.132\n",
    "    },\n",
    "    \"S\":{\n",
    "        \"side_chain_class\":\"hydroxyl-containing\",\n",
    "        \"side_chain_polarity\":\"polar\",\n",
    "        \"side_chain_charge\":\"neutral\",\n",
    "        \"hydropathy_index\":-0.8,\n",
    "        \"molecular_weight\":105.093\n",
    "    },\n",
    "    \"T\":{\n",
    "        \"side_chain_class\":\"hydroxyl-containing\",\n",
    "        \"side_chain_polarity\":\"polar\",\n",
    "        \"side_chain_charge\":\"neutral\",\n",
    "        \"hydropathy_index\":-0.7,\n",
    "        \"molecular_weight\":119.119\n",
    "    },\n",
    "    \"W\":{\n",
    "        \"side_chain_class\":\"aromatic\",\n",
    "        \"side_chain_polarity\":\"nonpolar\",\n",
    "        \"side_chain_charge\":\"neutral\",\n",
    "        \"hydropathy_index\":-0.9,\n",
    "        \"molecular_weight\":204.228\n",
    "    },\n",
    "    \"Y\":{\n",
    "        \"side_chain_class\":\"aromatic\",\n",
    "        \"side_chain_polarity\":\"polar\",\n",
    "        \"side_chain_charge\":\"neutral\",\n",
    "        \"hydropathy_index\":-1.3,\n",
    "        \"molecular_weight\":181.191\n",
    "    },\n",
    "    \"V\":{\n",
    "        \"side_chain_class\":\"aliphatic\",\n",
    "        \"side_chain_polarity\":\"nonpolar\",\n",
    "        \"side_chain_charge\":\"neutral\",\n",
    "        \"hydropathy_index\":4.2,\n",
    "        \"molecular_weight\":117.148\n",
    "    }\n",
    "}"
   ]
  },
  {
   "cell_type": "code",
   "execution_count": 3,
   "metadata": {},
   "outputs": [
    {
     "data": {
      "text/html": [
       "<div>\n",
       "<style scoped>\n",
       "    .dataframe tbody tr th:only-of-type {\n",
       "        vertical-align: middle;\n",
       "    }\n",
       "\n",
       "    .dataframe tbody tr th {\n",
       "        vertical-align: top;\n",
       "    }\n",
       "\n",
       "    .dataframe thead th {\n",
       "        text-align: right;\n",
       "    }\n",
       "</style>\n",
       "<table border=\"1\" class=\"dataframe\">\n",
       "  <thead>\n",
       "    <tr style=\"text-align: right;\">\n",
       "      <th></th>\n",
       "      <th>protein</th>\n",
       "      <th>gram_num</th>\n",
       "      <th>gram_1</th>\n",
       "      <th>gram_2</th>\n",
       "      <th>gram_3</th>\n",
       "      <th>gram_4</th>\n",
       "      <th>gram_5</th>\n",
       "    </tr>\n",
       "  </thead>\n",
       "  <tbody>\n",
       "    <tr>\n",
       "      <th>9983039</th>\n",
       "      <td>PLCL1_HUMAN</td>\n",
       "      <td>922</td>\n",
       "      <td>S</td>\n",
       "      <td>L</td>\n",
       "      <td>K</td>\n",
       "      <td>Q</td>\n",
       "      <td>C</td>\n",
       "    </tr>\n",
       "    <tr>\n",
       "      <th>9090249</th>\n",
       "      <td>DIP2B_HUMAN</td>\n",
       "      <td>949</td>\n",
       "      <td>Q</td>\n",
       "      <td>P</td>\n",
       "      <td>G</td>\n",
       "      <td>V</td>\n",
       "      <td>G</td>\n",
       "    </tr>\n",
       "    <tr>\n",
       "      <th>11203698</th>\n",
       "      <td>NU205_HUMAN</td>\n",
       "      <td>1593</td>\n",
       "      <td>E</td>\n",
       "      <td>T</td>\n",
       "      <td>D</td>\n",
       "      <td>P</td>\n",
       "      <td>Q</td>\n",
       "    </tr>\n",
       "    <tr>\n",
       "      <th>3146096</th>\n",
       "      <td>CAN15_HUMAN</td>\n",
       "      <td>228</td>\n",
       "      <td>R</td>\n",
       "      <td>V</td>\n",
       "      <td>P</td>\n",
       "      <td>P</td>\n",
       "      <td>F</td>\n",
       "    </tr>\n",
       "    <tr>\n",
       "      <th>4026919</th>\n",
       "      <td>GUC2F_HUMAN</td>\n",
       "      <td>204</td>\n",
       "      <td>R</td>\n",
       "      <td>V</td>\n",
       "      <td>A</td>\n",
       "      <td>S</td>\n",
       "      <td>A</td>\n",
       "    </tr>\n",
       "  </tbody>\n",
       "</table>\n",
       "</div>"
      ],
      "text/plain": [
       "              protein  gram_num gram_1 gram_2 gram_3 gram_4 gram_5\n",
       "9983039   PLCL1_HUMAN       922      S      L      K      Q      C\n",
       "9090249   DIP2B_HUMAN       949      Q      P      G      V      G\n",
       "11203698  NU205_HUMAN      1593      E      T      D      P      Q\n",
       "3146096   CAN15_HUMAN       228      R      V      P      P      F\n",
       "4026919   GUC2F_HUMAN       204      R      V      A      S      A"
      ]
     },
     "execution_count": 3,
     "metadata": {},
     "output_type": "execute_result"
    }
   ],
   "source": [
    "conn = sqlite3.connect(\"protein_training.db\")\n",
    "ngrams_df = pd.read_sql('SELECT protein, gram_num, gram_1, gram_2, gram_3, gram_4, gram_5 from protein_ngram',con=conn)\n",
    "conn.close()\n",
    "ngrams_df.sample(5)"
   ]
  },
  {
   "cell_type": "code",
   "execution_count": 4,
   "metadata": {},
   "outputs": [],
   "source": [
    "aa_vals = pd.melt(\n",
    "    ngrams_df[[\n",
    "        'protein','gram_num','gram_1','gram_2','gram_3','gram_4','gram_5']],\n",
    "    id_vars=['protein','gram_num'],\n",
    "    value_vars=['gram_1','gram_2','gram_3','gram_4','gram_5']\n",
    ").value.unique()"
   ]
  },
  {
   "cell_type": "code",
   "execution_count": 5,
   "metadata": {},
   "outputs": [],
   "source": [
    "for a in aa_vals:\n",
    "    if a == \"U\":\n",
    "        a = \"C\"\n",
    "    if a not in amino_acid_dict:\n",
    "        print(a)"
   ]
  },
  {
   "cell_type": "code",
   "execution_count": 6,
   "metadata": {},
   "outputs": [],
   "source": [
    "def ngramMapper(grams):\n",
    "    return_arr = []\n",
    "    for gram in grams:\n",
    "        if gram == \"U\":\n",
    "            gram = \"C\"\n",
    "        gram_vals = list(amino_acid_dict[gram].values())\n",
    "        return_arr.extend(gram_vals)\n",
    "    return return_arr"
   ]
  },
  {
   "cell_type": "code",
   "execution_count": 8,
   "metadata": {},
   "outputs": [
    {
     "name": "stdout",
     "output_type": "stream",
     "text": [
      "[[0, 10000], [10000, 20000], [20000, 30000], [30000, 40000], [40000, 50000]] ... [[11270000, 11280000], [11280000, 11290000], [11290000, 11300000], [11300000, 11310000], [11310000, 11319554]]\n"
     ]
    }
   ],
   "source": [
    "# Lets chunk this\n",
    "chunk_size = 10000\n",
    "chunk_list = list(range(0, ngrams_df.shape[0],chunk_size))\n",
    "chunk_pairs = [[chunk_list[i-1], chunk_list[i]] for i, x in enumerate(chunk_list) if i != 0]\n",
    "chunk_pairs.append([chunk_pairs[-1][-1], ngrams_df.shape[0]])\n",
    "print(chunk_pairs[:5],\"...\",chunk_pairs[-5:])"
   ]
  },
  {
   "cell_type": "code",
   "execution_count": 8,
   "metadata": {},
   "outputs": [
    {
     "name": "stdout",
     "output_type": "stream",
     "text": [
      "True\n"
     ]
    },
    {
     "data": {
      "text/plain": [
       "True"
      ]
     },
     "execution_count": 8,
     "metadata": {},
     "output_type": "execute_result"
    }
   ],
   "source": [
    "# sanity check\n",
    "chunk_0_shape = ngrams_df.iloc[chunk_pairs[0][0]:chunk_pairs[0][1],:].shape[0]\n",
    "chunk_neg1_shape = ngrams_df.iloc[chunk_pairs[-1][0]:chunk_pairs[-1][1],:].shape[0]\n",
    "\n",
    "print(chunk_0_shape > chunk_neg1_shape)\n",
    "chunk_pairs[-1][1] == ngrams_df.shape[0]"
   ]
  },
  {
   "cell_type": "code",
   "execution_count": 9,
   "metadata": {},
   "outputs": [
    {
     "name": "stdout",
     "output_type": "stream",
     "text": [
      "['gram_1_side_class', 'gram_1_side_polarity', 'gram_1_side_charge', 'gram_1_hydropathy_index', 'gram_1_mol_weight', 'gram_2_side_class', 'gram_2_side_polarity', 'gram_2_side_charge', 'gram_2_hydropathy_index', 'gram_2_mol_weight', 'gram_3_side_class', 'gram_3_side_polarity', 'gram_3_side_charge', 'gram_3_hydropathy_index', 'gram_3_mol_weight', 'gram_4_side_class', 'gram_4_side_polarity', 'gram_4_side_charge', 'gram_4_hydropathy_index', 'gram_4_mol_weight', 'gram_5_side_class', 'gram_5_side_polarity', 'gram_5_side_charge', 'gram_5_hydropathy_index', 'gram_5_mol_weight']\n"
     ]
    }
   ],
   "source": [
    "gram_val_cols = []\n",
    "\n",
    "for i in range(1,6):\n",
    "    base = \"gram_\"+str(i)+\"_\"\n",
    "    gram_val_cols.extend(\n",
    "        [\n",
    "            base+\"side_class\",\n",
    "            base+\"side_polarity\",\n",
    "            base+\"side_charge\",\n",
    "            base+\"hydropathy_index\",\n",
    "            base+\"mol_weight\"\n",
    "        ]\n",
    "    )\n",
    "    \n",
    "print(gram_val_cols)"
   ]
  },
  {
   "cell_type": "code",
   "execution_count": 10,
   "metadata": {},
   "outputs": [
    {
     "data": {
      "application/vnd.jupyter.widget-view+json": {
       "model_id": "5975553a2707474cab44445b311b431e",
       "version_major": 2,
       "version_minor": 0
      },
      "text/plain": [
       "HBox(children=(IntProgress(value=0, max=1132), HTML(value='')))"
      ]
     },
     "metadata": {},
     "output_type": "display_data"
    },
    {
     "name": "stdout",
     "output_type": "stream",
     "text": [
      "\n"
     ]
    },
    {
     "ename": "KeyboardInterrupt",
     "evalue": "",
     "output_type": "error",
     "traceback": [
      "\u001b[1;31m---------------------------------------------------------------------------\u001b[0m",
      "\u001b[1;31mKeyboardInterrupt\u001b[0m                         Traceback (most recent call last)",
      "\u001b[1;32m<ipython-input-10-2aac9be24dde>\u001b[0m in \u001b[0;36m<module>\u001b[1;34m\u001b[0m\n\u001b[0;32m     11\u001b[0m             \u001b[0mrow\u001b[0m\u001b[1;33m[\u001b[0m\u001b[1;33m[\u001b[0m\u001b[1;34m'gram_1'\u001b[0m\u001b[1;33m,\u001b[0m\u001b[1;34m'gram_2'\u001b[0m\u001b[1;33m,\u001b[0m\u001b[1;34m'gram_3'\u001b[0m\u001b[1;33m,\u001b[0m\u001b[1;34m'gram_4'\u001b[0m\u001b[1;33m,\u001b[0m\u001b[1;34m'gram_5'\u001b[0m\u001b[1;33m]\u001b[0m\u001b[1;33m]\u001b[0m\u001b[1;33m.\u001b[0m\u001b[0mvalues\u001b[0m\u001b[1;33m\u001b[0m\u001b[0m\n\u001b[0;32m     12\u001b[0m         ),\n\u001b[1;32m---> 13\u001b[1;33m         \u001b[0maxis\u001b[0m\u001b[1;33m=\u001b[0m\u001b[1;36m1\u001b[0m\u001b[1;33m\u001b[0m\u001b[0m\n\u001b[0m\u001b[0;32m     14\u001b[0m     ).values.tolist()\n\u001b[0;32m     15\u001b[0m \u001b[1;33m\u001b[0m\u001b[0m\n",
      "\u001b[1;32m~\\Anaconda3\\lib\\site-packages\\pandas\\core\\frame.py\u001b[0m in \u001b[0;36mapply\u001b[1;34m(self, func, axis, broadcast, raw, reduce, result_type, args, **kwds)\u001b[0m\n\u001b[0;32m   6012\u001b[0m                          \u001b[0margs\u001b[0m\u001b[1;33m=\u001b[0m\u001b[0margs\u001b[0m\u001b[1;33m,\u001b[0m\u001b[1;33m\u001b[0m\u001b[0m\n\u001b[0;32m   6013\u001b[0m                          kwds=kwds)\n\u001b[1;32m-> 6014\u001b[1;33m         \u001b[1;32mreturn\u001b[0m \u001b[0mop\u001b[0m\u001b[1;33m.\u001b[0m\u001b[0mget_result\u001b[0m\u001b[1;33m(\u001b[0m\u001b[1;33m)\u001b[0m\u001b[1;33m\u001b[0m\u001b[0m\n\u001b[0m\u001b[0;32m   6015\u001b[0m \u001b[1;33m\u001b[0m\u001b[0m\n\u001b[0;32m   6016\u001b[0m     \u001b[1;32mdef\u001b[0m \u001b[0mapplymap\u001b[0m\u001b[1;33m(\u001b[0m\u001b[0mself\u001b[0m\u001b[1;33m,\u001b[0m \u001b[0mfunc\u001b[0m\u001b[1;33m)\u001b[0m\u001b[1;33m:\u001b[0m\u001b[1;33m\u001b[0m\u001b[0m\n",
      "\u001b[1;32m~\\Anaconda3\\lib\\site-packages\\pandas\\core\\apply.py\u001b[0m in \u001b[0;36mget_result\u001b[1;34m(self)\u001b[0m\n\u001b[0;32m    140\u001b[0m             \u001b[1;32mreturn\u001b[0m \u001b[0mself\u001b[0m\u001b[1;33m.\u001b[0m\u001b[0mapply_raw\u001b[0m\u001b[1;33m(\u001b[0m\u001b[1;33m)\u001b[0m\u001b[1;33m\u001b[0m\u001b[0m\n\u001b[0;32m    141\u001b[0m \u001b[1;33m\u001b[0m\u001b[0m\n\u001b[1;32m--> 142\u001b[1;33m         \u001b[1;32mreturn\u001b[0m \u001b[0mself\u001b[0m\u001b[1;33m.\u001b[0m\u001b[0mapply_standard\u001b[0m\u001b[1;33m(\u001b[0m\u001b[1;33m)\u001b[0m\u001b[1;33m\u001b[0m\u001b[0m\n\u001b[0m\u001b[0;32m    143\u001b[0m \u001b[1;33m\u001b[0m\u001b[0m\n\u001b[0;32m    144\u001b[0m     \u001b[1;32mdef\u001b[0m \u001b[0mapply_empty_result\u001b[0m\u001b[1;33m(\u001b[0m\u001b[0mself\u001b[0m\u001b[1;33m)\u001b[0m\u001b[1;33m:\u001b[0m\u001b[1;33m\u001b[0m\u001b[0m\n",
      "\u001b[1;32m~\\Anaconda3\\lib\\site-packages\\pandas\\core\\apply.py\u001b[0m in \u001b[0;36mapply_standard\u001b[1;34m(self)\u001b[0m\n\u001b[0;32m    240\u001b[0m                                           \u001b[0maxis\u001b[0m\u001b[1;33m=\u001b[0m\u001b[0mself\u001b[0m\u001b[1;33m.\u001b[0m\u001b[0maxis\u001b[0m\u001b[1;33m,\u001b[0m\u001b[1;33m\u001b[0m\u001b[0m\n\u001b[0;32m    241\u001b[0m                                           \u001b[0mdummy\u001b[0m\u001b[1;33m=\u001b[0m\u001b[0mdummy\u001b[0m\u001b[1;33m,\u001b[0m\u001b[1;33m\u001b[0m\u001b[0m\n\u001b[1;32m--> 242\u001b[1;33m                                           labels=labels)\n\u001b[0m\u001b[0;32m    243\u001b[0m                 \u001b[1;32mreturn\u001b[0m \u001b[0mself\u001b[0m\u001b[1;33m.\u001b[0m\u001b[0mobj\u001b[0m\u001b[1;33m.\u001b[0m\u001b[0m_constructor_sliced\u001b[0m\u001b[1;33m(\u001b[0m\u001b[0mresult\u001b[0m\u001b[1;33m,\u001b[0m \u001b[0mindex\u001b[0m\u001b[1;33m=\u001b[0m\u001b[0mlabels\u001b[0m\u001b[1;33m)\u001b[0m\u001b[1;33m\u001b[0m\u001b[0m\n\u001b[0;32m    244\u001b[0m             \u001b[1;32mexcept\u001b[0m \u001b[0mException\u001b[0m\u001b[1;33m:\u001b[0m\u001b[1;33m\u001b[0m\u001b[0m\n",
      "\u001b[1;32mpandas/_libs/reduction.pyx\u001b[0m in \u001b[0;36mpandas._libs.reduction.reduce\u001b[1;34m()\u001b[0m\n",
      "\u001b[1;32mpandas/_libs/reduction.pyx\u001b[0m in \u001b[0;36mpandas._libs.reduction.Reducer.get_result\u001b[1;34m()\u001b[0m\n",
      "\u001b[1;32m<ipython-input-10-2aac9be24dde>\u001b[0m in \u001b[0;36m<lambda>\u001b[1;34m(row)\u001b[0m\n\u001b[0;32m      9\u001b[0m     chunk_vals = ngram_df_chunk.apply(\n\u001b[0;32m     10\u001b[0m         lambda row: ngramMapper(\n\u001b[1;32m---> 11\u001b[1;33m             \u001b[0mrow\u001b[0m\u001b[1;33m[\u001b[0m\u001b[1;33m[\u001b[0m\u001b[1;34m'gram_1'\u001b[0m\u001b[1;33m,\u001b[0m\u001b[1;34m'gram_2'\u001b[0m\u001b[1;33m,\u001b[0m\u001b[1;34m'gram_3'\u001b[0m\u001b[1;33m,\u001b[0m\u001b[1;34m'gram_4'\u001b[0m\u001b[1;33m,\u001b[0m\u001b[1;34m'gram_5'\u001b[0m\u001b[1;33m]\u001b[0m\u001b[1;33m]\u001b[0m\u001b[1;33m.\u001b[0m\u001b[0mvalues\u001b[0m\u001b[1;33m\u001b[0m\u001b[0m\n\u001b[0m\u001b[0;32m     12\u001b[0m         ),\n\u001b[0;32m     13\u001b[0m         \u001b[0maxis\u001b[0m\u001b[1;33m=\u001b[0m\u001b[1;36m1\u001b[0m\u001b[1;33m\u001b[0m\u001b[0m\n",
      "\u001b[1;32m~\\Anaconda3\\lib\\site-packages\\pandas\\core\\series.py\u001b[0m in \u001b[0;36m__getitem__\u001b[1;34m(self, key)\u001b[0m\n\u001b[0;32m    808\u001b[0m             \u001b[0mkey\u001b[0m \u001b[1;33m=\u001b[0m \u001b[0mcheck_bool_indexer\u001b[0m\u001b[1;33m(\u001b[0m\u001b[0mself\u001b[0m\u001b[1;33m.\u001b[0m\u001b[0mindex\u001b[0m\u001b[1;33m,\u001b[0m \u001b[0mkey\u001b[0m\u001b[1;33m)\u001b[0m\u001b[1;33m\u001b[0m\u001b[0m\n\u001b[0;32m    809\u001b[0m \u001b[1;33m\u001b[0m\u001b[0m\n\u001b[1;32m--> 810\u001b[1;33m         \u001b[1;32mreturn\u001b[0m \u001b[0mself\u001b[0m\u001b[1;33m.\u001b[0m\u001b[0m_get_with\u001b[0m\u001b[1;33m(\u001b[0m\u001b[0mkey\u001b[0m\u001b[1;33m)\u001b[0m\u001b[1;33m\u001b[0m\u001b[0m\n\u001b[0m\u001b[0;32m    811\u001b[0m \u001b[1;33m\u001b[0m\u001b[0m\n\u001b[0;32m    812\u001b[0m     \u001b[1;32mdef\u001b[0m \u001b[0m_get_with\u001b[0m\u001b[1;33m(\u001b[0m\u001b[0mself\u001b[0m\u001b[1;33m,\u001b[0m \u001b[0mkey\u001b[0m\u001b[1;33m)\u001b[0m\u001b[1;33m:\u001b[0m\u001b[1;33m\u001b[0m\u001b[0m\n",
      "\u001b[1;32m~\\Anaconda3\\lib\\site-packages\\pandas\\core\\series.py\u001b[0m in \u001b[0;36m_get_with\u001b[1;34m(self, key)\u001b[0m\n\u001b[0;32m    849\u001b[0m                     \u001b[1;31m# handle the dup indexing case (GH 4246)\u001b[0m\u001b[1;33m\u001b[0m\u001b[1;33m\u001b[0m\u001b[0m\n\u001b[0;32m    850\u001b[0m                     \u001b[1;32mif\u001b[0m \u001b[0misinstance\u001b[0m\u001b[1;33m(\u001b[0m\u001b[0mkey\u001b[0m\u001b[1;33m,\u001b[0m \u001b[1;33m(\u001b[0m\u001b[0mlist\u001b[0m\u001b[1;33m,\u001b[0m \u001b[0mtuple\u001b[0m\u001b[1;33m)\u001b[0m\u001b[1;33m)\u001b[0m\u001b[1;33m:\u001b[0m\u001b[1;33m\u001b[0m\u001b[0m\n\u001b[1;32m--> 851\u001b[1;33m                         \u001b[1;32mreturn\u001b[0m \u001b[0mself\u001b[0m\u001b[1;33m.\u001b[0m\u001b[0mloc\u001b[0m\u001b[1;33m[\u001b[0m\u001b[0mkey\u001b[0m\u001b[1;33m]\u001b[0m\u001b[1;33m\u001b[0m\u001b[0m\n\u001b[0m\u001b[0;32m    852\u001b[0m \u001b[1;33m\u001b[0m\u001b[0m\n\u001b[0;32m    853\u001b[0m                     \u001b[1;32mreturn\u001b[0m \u001b[0mself\u001b[0m\u001b[1;33m.\u001b[0m\u001b[0mreindex\u001b[0m\u001b[1;33m(\u001b[0m\u001b[0mkey\u001b[0m\u001b[1;33m)\u001b[0m\u001b[1;33m\u001b[0m\u001b[0m\n",
      "\u001b[1;32m~\\Anaconda3\\lib\\site-packages\\pandas\\core\\indexing.py\u001b[0m in \u001b[0;36m__getitem__\u001b[1;34m(self, key)\u001b[0m\n\u001b[0;32m   1476\u001b[0m \u001b[1;33m\u001b[0m\u001b[0m\n\u001b[0;32m   1477\u001b[0m             \u001b[0mmaybe_callable\u001b[0m \u001b[1;33m=\u001b[0m \u001b[0mcom\u001b[0m\u001b[1;33m.\u001b[0m\u001b[0m_apply_if_callable\u001b[0m\u001b[1;33m(\u001b[0m\u001b[0mkey\u001b[0m\u001b[1;33m,\u001b[0m \u001b[0mself\u001b[0m\u001b[1;33m.\u001b[0m\u001b[0mobj\u001b[0m\u001b[1;33m)\u001b[0m\u001b[1;33m\u001b[0m\u001b[0m\n\u001b[1;32m-> 1478\u001b[1;33m             \u001b[1;32mreturn\u001b[0m \u001b[0mself\u001b[0m\u001b[1;33m.\u001b[0m\u001b[0m_getitem_axis\u001b[0m\u001b[1;33m(\u001b[0m\u001b[0mmaybe_callable\u001b[0m\u001b[1;33m,\u001b[0m \u001b[0maxis\u001b[0m\u001b[1;33m=\u001b[0m\u001b[0maxis\u001b[0m\u001b[1;33m)\u001b[0m\u001b[1;33m\u001b[0m\u001b[0m\n\u001b[0m\u001b[0;32m   1479\u001b[0m \u001b[1;33m\u001b[0m\u001b[0m\n\u001b[0;32m   1480\u001b[0m     \u001b[1;32mdef\u001b[0m \u001b[0m_is_scalar_access\u001b[0m\u001b[1;33m(\u001b[0m\u001b[0mself\u001b[0m\u001b[1;33m,\u001b[0m \u001b[0mkey\u001b[0m\u001b[1;33m)\u001b[0m\u001b[1;33m:\u001b[0m\u001b[1;33m\u001b[0m\u001b[0m\n",
      "\u001b[1;32m~\\Anaconda3\\lib\\site-packages\\pandas\\core\\indexing.py\u001b[0m in \u001b[0;36m_getitem_axis\u001b[1;34m(self, key, axis)\u001b[0m\n\u001b[0;32m   1899\u001b[0m                     \u001b[1;32mraise\u001b[0m \u001b[0mValueError\u001b[0m\u001b[1;33m(\u001b[0m\u001b[1;34m'Cannot index with multidimensional key'\u001b[0m\u001b[1;33m)\u001b[0m\u001b[1;33m\u001b[0m\u001b[0m\n\u001b[0;32m   1900\u001b[0m \u001b[1;33m\u001b[0m\u001b[0m\n\u001b[1;32m-> 1901\u001b[1;33m                 \u001b[1;32mreturn\u001b[0m \u001b[0mself\u001b[0m\u001b[1;33m.\u001b[0m\u001b[0m_getitem_iterable\u001b[0m\u001b[1;33m(\u001b[0m\u001b[0mkey\u001b[0m\u001b[1;33m,\u001b[0m \u001b[0maxis\u001b[0m\u001b[1;33m=\u001b[0m\u001b[0maxis\u001b[0m\u001b[1;33m)\u001b[0m\u001b[1;33m\u001b[0m\u001b[0m\n\u001b[0m\u001b[0;32m   1902\u001b[0m \u001b[1;33m\u001b[0m\u001b[0m\n\u001b[0;32m   1903\u001b[0m             \u001b[1;31m# nested tuple slicing\u001b[0m\u001b[1;33m\u001b[0m\u001b[1;33m\u001b[0m\u001b[0m\n",
      "\u001b[1;32m~\\Anaconda3\\lib\\site-packages\\pandas\\core\\indexing.py\u001b[0m in \u001b[0;36m_getitem_iterable\u001b[1;34m(self, key, axis)\u001b[0m\n\u001b[0;32m   1140\u001b[0m             \u001b[1;31m# existing labels are unique and indexer are unique\u001b[0m\u001b[1;33m\u001b[0m\u001b[1;33m\u001b[0m\u001b[0m\n\u001b[0;32m   1141\u001b[0m             \u001b[1;32mif\u001b[0m \u001b[0mlabels\u001b[0m\u001b[1;33m.\u001b[0m\u001b[0mis_unique\u001b[0m \u001b[1;32mand\u001b[0m \u001b[0mIndex\u001b[0m\u001b[1;33m(\u001b[0m\u001b[0mkeyarr\u001b[0m\u001b[1;33m)\u001b[0m\u001b[1;33m.\u001b[0m\u001b[0mis_unique\u001b[0m\u001b[1;33m:\u001b[0m\u001b[1;33m\u001b[0m\u001b[0m\n\u001b[1;32m-> 1142\u001b[1;33m                 \u001b[0mindexer\u001b[0m \u001b[1;33m=\u001b[0m \u001b[0max\u001b[0m\u001b[1;33m.\u001b[0m\u001b[0mget_indexer_for\u001b[0m\u001b[1;33m(\u001b[0m\u001b[0mkey\u001b[0m\u001b[1;33m)\u001b[0m\u001b[1;33m\u001b[0m\u001b[0m\n\u001b[0m\u001b[0;32m   1143\u001b[0m                 \u001b[0mself\u001b[0m\u001b[1;33m.\u001b[0m\u001b[0m_validate_read_indexer\u001b[0m\u001b[1;33m(\u001b[0m\u001b[0mkey\u001b[0m\u001b[1;33m,\u001b[0m \u001b[0mindexer\u001b[0m\u001b[1;33m,\u001b[0m \u001b[0maxis\u001b[0m\u001b[1;33m)\u001b[0m\u001b[1;33m\u001b[0m\u001b[0m\n\u001b[0;32m   1144\u001b[0m \u001b[1;33m\u001b[0m\u001b[0m\n",
      "\u001b[1;32m~\\Anaconda3\\lib\\site-packages\\pandas\\core\\indexes\\base.py\u001b[0m in \u001b[0;36mget_indexer_for\u001b[1;34m(self, target, **kwargs)\u001b[0m\n\u001b[0;32m   3383\u001b[0m         \"\"\"\n\u001b[0;32m   3384\u001b[0m         \u001b[1;32mif\u001b[0m \u001b[0mself\u001b[0m\u001b[1;33m.\u001b[0m\u001b[0mis_unique\u001b[0m\u001b[1;33m:\u001b[0m\u001b[1;33m\u001b[0m\u001b[0m\n\u001b[1;32m-> 3385\u001b[1;33m             \u001b[1;32mreturn\u001b[0m \u001b[0mself\u001b[0m\u001b[1;33m.\u001b[0m\u001b[0mget_indexer\u001b[0m\u001b[1;33m(\u001b[0m\u001b[0mtarget\u001b[0m\u001b[1;33m,\u001b[0m \u001b[1;33m**\u001b[0m\u001b[0mkwargs\u001b[0m\u001b[1;33m)\u001b[0m\u001b[1;33m\u001b[0m\u001b[0m\n\u001b[0m\u001b[0;32m   3386\u001b[0m         \u001b[0mindexer\u001b[0m\u001b[1;33m,\u001b[0m \u001b[0m_\u001b[0m \u001b[1;33m=\u001b[0m \u001b[0mself\u001b[0m\u001b[1;33m.\u001b[0m\u001b[0mget_indexer_non_unique\u001b[0m\u001b[1;33m(\u001b[0m\u001b[0mtarget\u001b[0m\u001b[1;33m,\u001b[0m \u001b[1;33m**\u001b[0m\u001b[0mkwargs\u001b[0m\u001b[1;33m)\u001b[0m\u001b[1;33m\u001b[0m\u001b[0m\n\u001b[0;32m   3387\u001b[0m         \u001b[1;32mreturn\u001b[0m \u001b[0mindexer\u001b[0m\u001b[1;33m\u001b[0m\u001b[0m\n",
      "\u001b[1;32m~\\Anaconda3\\lib\\site-packages\\pandas\\core\\indexes\\base.py\u001b[0m in \u001b[0;36mget_indexer\u001b[1;34m(self, target, method, limit, tolerance)\u001b[0m\n\u001b[0;32m   3220\u001b[0m     \u001b[1;32mdef\u001b[0m \u001b[0mget_indexer\u001b[0m\u001b[1;33m(\u001b[0m\u001b[0mself\u001b[0m\u001b[1;33m,\u001b[0m \u001b[0mtarget\u001b[0m\u001b[1;33m,\u001b[0m \u001b[0mmethod\u001b[0m\u001b[1;33m=\u001b[0m\u001b[1;32mNone\u001b[0m\u001b[1;33m,\u001b[0m \u001b[0mlimit\u001b[0m\u001b[1;33m=\u001b[0m\u001b[1;32mNone\u001b[0m\u001b[1;33m,\u001b[0m \u001b[0mtolerance\u001b[0m\u001b[1;33m=\u001b[0m\u001b[1;32mNone\u001b[0m\u001b[1;33m)\u001b[0m\u001b[1;33m:\u001b[0m\u001b[1;33m\u001b[0m\u001b[0m\n\u001b[0;32m   3221\u001b[0m         \u001b[0mmethod\u001b[0m \u001b[1;33m=\u001b[0m \u001b[0mmissing\u001b[0m\u001b[1;33m.\u001b[0m\u001b[0mclean_reindex_fill_method\u001b[0m\u001b[1;33m(\u001b[0m\u001b[0mmethod\u001b[0m\u001b[1;33m)\u001b[0m\u001b[1;33m\u001b[0m\u001b[0m\n\u001b[1;32m-> 3222\u001b[1;33m         \u001b[0mtarget\u001b[0m \u001b[1;33m=\u001b[0m \u001b[0m_ensure_index\u001b[0m\u001b[1;33m(\u001b[0m\u001b[0mtarget\u001b[0m\u001b[1;33m)\u001b[0m\u001b[1;33m\u001b[0m\u001b[0m\n\u001b[0m\u001b[0;32m   3223\u001b[0m         \u001b[1;32mif\u001b[0m \u001b[0mtolerance\u001b[0m \u001b[1;32mis\u001b[0m \u001b[1;32mnot\u001b[0m \u001b[1;32mNone\u001b[0m\u001b[1;33m:\u001b[0m\u001b[1;33m\u001b[0m\u001b[0m\n\u001b[0;32m   3224\u001b[0m             \u001b[0mtolerance\u001b[0m \u001b[1;33m=\u001b[0m \u001b[0mself\u001b[0m\u001b[1;33m.\u001b[0m\u001b[0m_convert_tolerance\u001b[0m\u001b[1;33m(\u001b[0m\u001b[0mtolerance\u001b[0m\u001b[1;33m,\u001b[0m \u001b[0mtarget\u001b[0m\u001b[1;33m)\u001b[0m\u001b[1;33m\u001b[0m\u001b[0m\n",
      "\u001b[1;32m~\\Anaconda3\\lib\\site-packages\\pandas\\core\\indexes\\base.py\u001b[0m in \u001b[0;36m_ensure_index\u001b[1;34m(index_like, copy)\u001b[0m\n\u001b[0;32m   4958\u001b[0m             \u001b[0mindex_like\u001b[0m \u001b[1;33m=\u001b[0m \u001b[0mlist\u001b[0m\u001b[1;33m(\u001b[0m\u001b[0mindex_like\u001b[0m\u001b[1;33m)\u001b[0m\u001b[1;33m\u001b[0m\u001b[0m\n\u001b[0;32m   4959\u001b[0m \u001b[1;33m\u001b[0m\u001b[0m\n\u001b[1;32m-> 4960\u001b[1;33m         \u001b[0mconverted\u001b[0m\u001b[1;33m,\u001b[0m \u001b[0mall_arrays\u001b[0m \u001b[1;33m=\u001b[0m \u001b[0mlib\u001b[0m\u001b[1;33m.\u001b[0m\u001b[0mclean_index_list\u001b[0m\u001b[1;33m(\u001b[0m\u001b[0mindex_like\u001b[0m\u001b[1;33m)\u001b[0m\u001b[1;33m\u001b[0m\u001b[0m\n\u001b[0m\u001b[0;32m   4961\u001b[0m \u001b[1;33m\u001b[0m\u001b[0m\n\u001b[0;32m   4962\u001b[0m         \u001b[1;32mif\u001b[0m \u001b[0mlen\u001b[0m\u001b[1;33m(\u001b[0m\u001b[0mconverted\u001b[0m\u001b[1;33m)\u001b[0m \u001b[1;33m>\u001b[0m \u001b[1;36m0\u001b[0m \u001b[1;32mand\u001b[0m \u001b[0mall_arrays\u001b[0m\u001b[1;33m:\u001b[0m\u001b[1;33m\u001b[0m\u001b[0m\n",
      "\u001b[1;32mpandas/_libs/lib.pyx\u001b[0m in \u001b[0;36mpandas._libs.lib.clean_index_list\u001b[1;34m()\u001b[0m\n",
      "\u001b[1;32mpandas/_libs/src/inference.pyx\u001b[0m in \u001b[0;36mpandas._libs.lib.infer_dtype\u001b[1;34m()\u001b[0m\n",
      "\u001b[1;32m~\\Anaconda3\\lib\\importlib\\_bootstrap.py\u001b[0m in \u001b[0;36m_find_and_load\u001b[1;34m(name, import_)\u001b[0m\n",
      "\u001b[1;32m~\\Anaconda3\\lib\\importlib\\_bootstrap.py\u001b[0m in \u001b[0;36m_find_and_load_unlocked\u001b[1;34m(name, import_)\u001b[0m\n",
      "\u001b[1;32m~\\Anaconda3\\lib\\importlib\\_bootstrap.py\u001b[0m in \u001b[0;36m_find_spec\u001b[1;34m(name, path, target)\u001b[0m\n",
      "\u001b[1;32m~\\Anaconda3\\lib\\importlib\\_bootstrap_external.py\u001b[0m in \u001b[0;36mfind_spec\u001b[1;34m(cls, fullname, path, target)\u001b[0m\n",
      "\u001b[1;32m~\\Anaconda3\\lib\\importlib\\_bootstrap_external.py\u001b[0m in \u001b[0;36m_get_spec\u001b[1;34m(cls, fullname, path, target)\u001b[0m\n",
      "\u001b[1;32m~\\Anaconda3\\lib\\importlib\\_bootstrap_external.py\u001b[0m in \u001b[0;36mfind_spec\u001b[1;34m(self, fullname, target)\u001b[0m\n",
      "\u001b[1;32m~\\Anaconda3\\lib\\importlib\\_bootstrap_external.py\u001b[0m in \u001b[0;36m_path_stat\u001b[1;34m(path)\u001b[0m\n",
      "\u001b[1;31mKeyboardInterrupt\u001b[0m: "
     ]
    }
   ],
   "source": [
    "conn = sqlite3.connect(\"protein_training.db\")\n",
    "\n",
    "for chunk in tqdm_notebook(chunk_pairs):\n",
    "    start = chunk[0]\n",
    "    end = chunk[1]\n",
    "    \n",
    "    ngram_df_chunk = ngrams_df.iloc[start:end,:]\n",
    "    \n",
    "    chunk_vals = ngram_df_chunk.apply(\n",
    "        lambda row: ngramMapper(\n",
    "            row[['gram_1','gram_2','gram_3','gram_4','gram_5']].values\n",
    "        ),\n",
    "        axis=1\n",
    "    ).values.tolist()\n",
    "    \n",
    "    chunk_df = pd.DataFrame(chunk_vals, columns=gram_val_cols, index=range(start,end))\n",
    "        \n",
    "    write_df = pd.concat(\n",
    "        [ngram_df_chunk[['protein','gram_num']],chunk_df],\n",
    "        axis=1,\n",
    "        sort=False\n",
    "    )\n",
    "            \n",
    "    write_df.to_sql(\"protein_subngram_features\", con=conn, index=False,\n",
    "                    if_exists=\"append\")\n",
    "    \n",
    "conn.close()"
   ]
  },
  {
   "cell_type": "code",
   "execution_count": 11,
   "metadata": {},
   "outputs": [],
   "source": [
    "conn.close()"
   ]
  },
  {
   "cell_type": "code",
   "execution_count": null,
   "metadata": {},
   "outputs": [],
   "source": []
  }
 ],
 "metadata": {
  "kernelspec": {
   "display_name": "Python 3",
   "language": "python",
   "name": "python3"
  },
  "language_info": {
   "codemirror_mode": {
    "name": "ipython",
    "version": 3
   },
   "file_extension": ".py",
   "mimetype": "text/x-python",
   "name": "python",
   "nbconvert_exporter": "python",
   "pygments_lexer": "ipython3",
   "version": "3.6.6"
  }
 },
 "nbformat": 4,
 "nbformat_minor": 2
}
